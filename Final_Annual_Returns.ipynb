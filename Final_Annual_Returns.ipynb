{
 "cells": [
  {
   "cell_type": "code",
   "execution_count": 1,
   "metadata": {},
   "outputs": [],
   "source": [
    "import numpy as np\n",
    "import pandas as pd\n",
    "import sklearn\n",
    "import matplotlib.pyplot as plt\n",
    "import seaborn as sns\n",
    "import scipy \n",
    "%matplotlib inline"
   ]
  },
  {
   "cell_type": "code",
   "execution_count": 2,
   "metadata": {},
   "outputs": [],
   "source": [
    "train=pd.read_csv(\"train.csv\")\n",
    "test=pd.read_csv(\"test.csv\")"
   ]
  },
  {
   "cell_type": "code",
   "execution_count": 3,
   "metadata": {},
   "outputs": [
    {
     "data": {
      "text/html": [
       "<div>\n",
       "<style>\n",
       "    .dataframe thead tr:only-child th {\n",
       "        text-align: right;\n",
       "    }\n",
       "\n",
       "    .dataframe thead th {\n",
       "        text-align: left;\n",
       "    }\n",
       "\n",
       "    .dataframe tbody tr th {\n",
       "        vertical-align: top;\n",
       "    }\n",
       "</style>\n",
       "<table border=\"1\" class=\"dataframe\">\n",
       "  <thead>\n",
       "    <tr style=\"text-align: right;\">\n",
       "      <th></th>\n",
       "      <th>portfolio_id</th>\n",
       "      <th>desk_id</th>\n",
       "      <th>office_id</th>\n",
       "      <th>pf_category</th>\n",
       "      <th>start_date</th>\n",
       "      <th>sold</th>\n",
       "      <th>country_code</th>\n",
       "      <th>euribor_rate</th>\n",
       "      <th>currency</th>\n",
       "      <th>libor_rate</th>\n",
       "      <th>bought</th>\n",
       "      <th>creation_date</th>\n",
       "      <th>indicator_code</th>\n",
       "      <th>sell_date</th>\n",
       "      <th>type</th>\n",
       "      <th>hedge_value</th>\n",
       "      <th>status</th>\n",
       "      <th>return</th>\n",
       "    </tr>\n",
       "  </thead>\n",
       "  <tbody>\n",
       "    <tr>\n",
       "      <th>0</th>\n",
       "      <td>PF00001002</td>\n",
       "      <td>DSK00001001</td>\n",
       "      <td>OFF00001002</td>\n",
       "      <td>B</td>\n",
       "      <td>20040720</td>\n",
       "      <td>110000000.0</td>\n",
       "      <td>T</td>\n",
       "      <td>0.02074</td>\n",
       "      <td>USD</td>\n",
       "      <td>2.332216</td>\n",
       "      <td>1.098097e+08</td>\n",
       "      <td>20040720</td>\n",
       "      <td>NaN</td>\n",
       "      <td>20040812</td>\n",
       "      <td>B</td>\n",
       "      <td>NaN</td>\n",
       "      <td>NaN</td>\n",
       "      <td>0.02496</td>\n",
       "    </tr>\n",
       "    <tr>\n",
       "      <th>1</th>\n",
       "      <td>PF00001003</td>\n",
       "      <td>DSK00001002</td>\n",
       "      <td>OFF00001001</td>\n",
       "      <td>A</td>\n",
       "      <td>20040709</td>\n",
       "      <td>176671000.0</td>\n",
       "      <td>N</td>\n",
       "      <td>0.02074</td>\n",
       "      <td>GBP</td>\n",
       "      <td>5.269617</td>\n",
       "      <td>1.760084e+08</td>\n",
       "      <td>20040723</td>\n",
       "      <td>NaN</td>\n",
       "      <td>20040812</td>\n",
       "      <td>C</td>\n",
       "      <td>NaN</td>\n",
       "      <td>NaN</td>\n",
       "      <td>0.05496</td>\n",
       "    </tr>\n",
       "    <tr>\n",
       "      <th>2</th>\n",
       "      <td>PF00001005</td>\n",
       "      <td>DSK00001004</td>\n",
       "      <td>OFF00001001</td>\n",
       "      <td>A</td>\n",
       "      <td>20040723</td>\n",
       "      <td>56474000.0</td>\n",
       "      <td>T</td>\n",
       "      <td>0.02074</td>\n",
       "      <td>USD</td>\n",
       "      <td>2.332216</td>\n",
       "      <td>5.637953e+07</td>\n",
       "      <td>20040723</td>\n",
       "      <td>NaN</td>\n",
       "      <td>20040817</td>\n",
       "      <td>A</td>\n",
       "      <td>NaN</td>\n",
       "      <td>NaN</td>\n",
       "      <td>0.02496</td>\n",
       "    </tr>\n",
       "    <tr>\n",
       "      <th>3</th>\n",
       "      <td>PF00001006</td>\n",
       "      <td>DSK00001005</td>\n",
       "      <td>OFF00001001</td>\n",
       "      <td>A</td>\n",
       "      <td>20040609</td>\n",
       "      <td>164813000.0</td>\n",
       "      <td>T</td>\n",
       "      <td>0.02074</td>\n",
       "      <td>USD</td>\n",
       "      <td>2.332216</td>\n",
       "      <td>1.645088e+08</td>\n",
       "      <td>20040723</td>\n",
       "      <td>NaN</td>\n",
       "      <td>20040713</td>\n",
       "      <td>A</td>\n",
       "      <td>NaN</td>\n",
       "      <td>NaN</td>\n",
       "      <td>0.02496</td>\n",
       "    </tr>\n",
       "    <tr>\n",
       "      <th>4</th>\n",
       "      <td>PF00001007</td>\n",
       "      <td>DSK00001005</td>\n",
       "      <td>OFF00001002</td>\n",
       "      <td>B</td>\n",
       "      <td>20040609</td>\n",
       "      <td>140800000.0</td>\n",
       "      <td>T</td>\n",
       "      <td>0.02074</td>\n",
       "      <td>USD</td>\n",
       "      <td>2.332216</td>\n",
       "      <td>1.405402e+08</td>\n",
       "      <td>20040723</td>\n",
       "      <td>NaN</td>\n",
       "      <td>20040713</td>\n",
       "      <td>B</td>\n",
       "      <td>NaN</td>\n",
       "      <td>NaN</td>\n",
       "      <td>0.02496</td>\n",
       "    </tr>\n",
       "  </tbody>\n",
       "</table>\n",
       "</div>"
      ],
      "text/plain": [
       "  portfolio_id      desk_id    office_id pf_category  start_date         sold  \\\n",
       "0   PF00001002  DSK00001001  OFF00001002           B    20040720  110000000.0   \n",
       "1   PF00001003  DSK00001002  OFF00001001           A    20040709  176671000.0   \n",
       "2   PF00001005  DSK00001004  OFF00001001           A    20040723   56474000.0   \n",
       "3   PF00001006  DSK00001005  OFF00001001           A    20040609  164813000.0   \n",
       "4   PF00001007  DSK00001005  OFF00001002           B    20040609  140800000.0   \n",
       "\n",
       "  country_code  euribor_rate currency  libor_rate        bought  \\\n",
       "0            T       0.02074      USD    2.332216  1.098097e+08   \n",
       "1            N       0.02074      GBP    5.269617  1.760084e+08   \n",
       "2            T       0.02074      USD    2.332216  5.637953e+07   \n",
       "3            T       0.02074      USD    2.332216  1.645088e+08   \n",
       "4            T       0.02074      USD    2.332216  1.405402e+08   \n",
       "\n",
       "   creation_date indicator_code  sell_date type hedge_value status   return  \n",
       "0       20040720            NaN   20040812    B         NaN    NaN  0.02496  \n",
       "1       20040723            NaN   20040812    C         NaN    NaN  0.05496  \n",
       "2       20040723            NaN   20040817    A         NaN    NaN  0.02496  \n",
       "3       20040723            NaN   20040713    A         NaN    NaN  0.02496  \n",
       "4       20040723            NaN   20040713    B         NaN    NaN  0.02496  "
      ]
     },
     "execution_count": 3,
     "metadata": {},
     "output_type": "execute_result"
    }
   ],
   "source": [
    "train.head()"
   ]
  },
  {
   "cell_type": "code",
   "execution_count": 4,
   "metadata": {},
   "outputs": [
    {
     "data": {
      "text/html": [
       "<div>\n",
       "<style>\n",
       "    .dataframe thead tr:only-child th {\n",
       "        text-align: right;\n",
       "    }\n",
       "\n",
       "    .dataframe thead th {\n",
       "        text-align: left;\n",
       "    }\n",
       "\n",
       "    .dataframe tbody tr th {\n",
       "        vertical-align: top;\n",
       "    }\n",
       "</style>\n",
       "<table border=\"1\" class=\"dataframe\">\n",
       "  <thead>\n",
       "    <tr style=\"text-align: right;\">\n",
       "      <th></th>\n",
       "      <th>portfolio_id</th>\n",
       "      <th>desk_id</th>\n",
       "      <th>office_id</th>\n",
       "      <th>pf_category</th>\n",
       "      <th>start_date</th>\n",
       "      <th>sold</th>\n",
       "      <th>country_code</th>\n",
       "      <th>euribor_rate</th>\n",
       "      <th>currency</th>\n",
       "      <th>libor_rate</th>\n",
       "      <th>bought</th>\n",
       "      <th>creation_date</th>\n",
       "      <th>indicator_code</th>\n",
       "      <th>sell_date</th>\n",
       "      <th>type</th>\n",
       "      <th>hedge_value</th>\n",
       "      <th>status</th>\n",
       "    </tr>\n",
       "  </thead>\n",
       "  <tbody>\n",
       "    <tr>\n",
       "      <th>0</th>\n",
       "      <td>PF00001001</td>\n",
       "      <td>DSK00001001</td>\n",
       "      <td>OFF00001001</td>\n",
       "      <td>A</td>\n",
       "      <td>20040720</td>\n",
       "      <td>171831000.0</td>\n",
       "      <td>T</td>\n",
       "      <td>0.02074</td>\n",
       "      <td>USD</td>\n",
       "      <td>2.332216</td>\n",
       "      <td>1.715337e+08</td>\n",
       "      <td>20040720</td>\n",
       "      <td>NaN</td>\n",
       "      <td>20040812</td>\n",
       "      <td>A</td>\n",
       "      <td>NaN</td>\n",
       "      <td>NaN</td>\n",
       "    </tr>\n",
       "    <tr>\n",
       "      <th>1</th>\n",
       "      <td>PF00001004</td>\n",
       "      <td>DSK00001003</td>\n",
       "      <td>OFF00001002</td>\n",
       "      <td>B</td>\n",
       "      <td>20040723</td>\n",
       "      <td>56485000.0</td>\n",
       "      <td>T</td>\n",
       "      <td>0.02074</td>\n",
       "      <td>USD</td>\n",
       "      <td>2.332216</td>\n",
       "      <td>5.638038e+07</td>\n",
       "      <td>20040723</td>\n",
       "      <td>NaN</td>\n",
       "      <td>20040719</td>\n",
       "      <td>B</td>\n",
       "      <td>NaN</td>\n",
       "      <td>NaN</td>\n",
       "    </tr>\n",
       "    <tr>\n",
       "      <th>2</th>\n",
       "      <td>PF00001009</td>\n",
       "      <td>DSK00001007</td>\n",
       "      <td>OFF00001001</td>\n",
       "      <td>A</td>\n",
       "      <td>20040607</td>\n",
       "      <td>41734000.0</td>\n",
       "      <td>T</td>\n",
       "      <td>0.02074</td>\n",
       "      <td>USD</td>\n",
       "      <td>2.332216</td>\n",
       "      <td>4.166179e+07</td>\n",
       "      <td>20040726</td>\n",
       "      <td>NaN</td>\n",
       "      <td>20040709</td>\n",
       "      <td>A</td>\n",
       "      <td>NaN</td>\n",
       "      <td>NaN</td>\n",
       "    </tr>\n",
       "    <tr>\n",
       "      <th>3</th>\n",
       "      <td>PF00001013</td>\n",
       "      <td>DSK00001011</td>\n",
       "      <td>OFF00001001</td>\n",
       "      <td>A</td>\n",
       "      <td>20040716</td>\n",
       "      <td>82951000.0</td>\n",
       "      <td>T</td>\n",
       "      <td>0.02074</td>\n",
       "      <td>USD</td>\n",
       "      <td>2.332216</td>\n",
       "      <td>8.250936e+07</td>\n",
       "      <td>20040726</td>\n",
       "      <td>NaN</td>\n",
       "      <td>20041019</td>\n",
       "      <td>A</td>\n",
       "      <td>NaN</td>\n",
       "      <td>NaN</td>\n",
       "    </tr>\n",
       "    <tr>\n",
       "      <th>4</th>\n",
       "      <td>PF00001014</td>\n",
       "      <td>DSK00001012</td>\n",
       "      <td>OFF00001001</td>\n",
       "      <td>A</td>\n",
       "      <td>20040713</td>\n",
       "      <td>73293000.0</td>\n",
       "      <td>T</td>\n",
       "      <td>0.02074</td>\n",
       "      <td>USD</td>\n",
       "      <td>2.332216</td>\n",
       "      <td>7.317055e+07</td>\n",
       "      <td>20040726</td>\n",
       "      <td>NaN</td>\n",
       "      <td>20040813</td>\n",
       "      <td>A</td>\n",
       "      <td>NaN</td>\n",
       "      <td>NaN</td>\n",
       "    </tr>\n",
       "  </tbody>\n",
       "</table>\n",
       "</div>"
      ],
      "text/plain": [
       "  portfolio_id      desk_id    office_id pf_category  start_date         sold  \\\n",
       "0   PF00001001  DSK00001001  OFF00001001           A    20040720  171831000.0   \n",
       "1   PF00001004  DSK00001003  OFF00001002           B    20040723   56485000.0   \n",
       "2   PF00001009  DSK00001007  OFF00001001           A    20040607   41734000.0   \n",
       "3   PF00001013  DSK00001011  OFF00001001           A    20040716   82951000.0   \n",
       "4   PF00001014  DSK00001012  OFF00001001           A    20040713   73293000.0   \n",
       "\n",
       "  country_code  euribor_rate currency  libor_rate        bought  \\\n",
       "0            T       0.02074      USD    2.332216  1.715337e+08   \n",
       "1            T       0.02074      USD    2.332216  5.638038e+07   \n",
       "2            T       0.02074      USD    2.332216  4.166179e+07   \n",
       "3            T       0.02074      USD    2.332216  8.250936e+07   \n",
       "4            T       0.02074      USD    2.332216  7.317055e+07   \n",
       "\n",
       "   creation_date indicator_code  sell_date type hedge_value status  \n",
       "0       20040720            NaN   20040812    A         NaN    NaN  \n",
       "1       20040723            NaN   20040719    B         NaN    NaN  \n",
       "2       20040726            NaN   20040709    A         NaN    NaN  \n",
       "3       20040726            NaN   20041019    A         NaN    NaN  \n",
       "4       20040726            NaN   20040813    A         NaN    NaN  "
      ]
     },
     "execution_count": 4,
     "metadata": {},
     "output_type": "execute_result"
    }
   ],
   "source": [
    "test.head()"
   ]
  },
  {
   "cell_type": "code",
   "execution_count": 3,
   "metadata": {},
   "outputs": [],
   "source": [
    "train=train.iloc[:,3:]\n",
    "test=test.iloc[:,3:]"
   ]
  },
  {
   "cell_type": "code",
   "execution_count": 8,
   "metadata": {},
   "outputs": [
    {
     "data": {
      "text/html": [
       "<div>\n",
       "<style>\n",
       "    .dataframe thead tr:only-child th {\n",
       "        text-align: right;\n",
       "    }\n",
       "\n",
       "    .dataframe thead th {\n",
       "        text-align: left;\n",
       "    }\n",
       "\n",
       "    .dataframe tbody tr th {\n",
       "        vertical-align: top;\n",
       "    }\n",
       "</style>\n",
       "<table border=\"1\" class=\"dataframe\">\n",
       "  <thead>\n",
       "    <tr style=\"text-align: right;\">\n",
       "      <th></th>\n",
       "      <th>pf_category</th>\n",
       "      <th>start_date</th>\n",
       "      <th>sold</th>\n",
       "      <th>country_code</th>\n",
       "      <th>euribor_rate</th>\n",
       "      <th>currency</th>\n",
       "      <th>libor_rate</th>\n",
       "      <th>bought</th>\n",
       "      <th>creation_date</th>\n",
       "      <th>indicator_code</th>\n",
       "      <th>sell_date</th>\n",
       "      <th>type</th>\n",
       "      <th>hedge_value</th>\n",
       "      <th>status</th>\n",
       "      <th>return</th>\n",
       "    </tr>\n",
       "  </thead>\n",
       "  <tbody>\n",
       "    <tr>\n",
       "      <th>0</th>\n",
       "      <td>B</td>\n",
       "      <td>20040720</td>\n",
       "      <td>110000000.0</td>\n",
       "      <td>T</td>\n",
       "      <td>0.02074</td>\n",
       "      <td>USD</td>\n",
       "      <td>2.332216</td>\n",
       "      <td>1.098097e+08</td>\n",
       "      <td>20040720</td>\n",
       "      <td>NaN</td>\n",
       "      <td>20040812</td>\n",
       "      <td>B</td>\n",
       "      <td>NaN</td>\n",
       "      <td>NaN</td>\n",
       "      <td>0.02496</td>\n",
       "    </tr>\n",
       "    <tr>\n",
       "      <th>1</th>\n",
       "      <td>A</td>\n",
       "      <td>20040709</td>\n",
       "      <td>176671000.0</td>\n",
       "      <td>N</td>\n",
       "      <td>0.02074</td>\n",
       "      <td>GBP</td>\n",
       "      <td>5.269617</td>\n",
       "      <td>1.760084e+08</td>\n",
       "      <td>20040723</td>\n",
       "      <td>NaN</td>\n",
       "      <td>20040812</td>\n",
       "      <td>C</td>\n",
       "      <td>NaN</td>\n",
       "      <td>NaN</td>\n",
       "      <td>0.05496</td>\n",
       "    </tr>\n",
       "    <tr>\n",
       "      <th>2</th>\n",
       "      <td>A</td>\n",
       "      <td>20040723</td>\n",
       "      <td>56474000.0</td>\n",
       "      <td>T</td>\n",
       "      <td>0.02074</td>\n",
       "      <td>USD</td>\n",
       "      <td>2.332216</td>\n",
       "      <td>5.637953e+07</td>\n",
       "      <td>20040723</td>\n",
       "      <td>NaN</td>\n",
       "      <td>20040817</td>\n",
       "      <td>A</td>\n",
       "      <td>NaN</td>\n",
       "      <td>NaN</td>\n",
       "      <td>0.02496</td>\n",
       "    </tr>\n",
       "    <tr>\n",
       "      <th>3</th>\n",
       "      <td>A</td>\n",
       "      <td>20040609</td>\n",
       "      <td>164813000.0</td>\n",
       "      <td>T</td>\n",
       "      <td>0.02074</td>\n",
       "      <td>USD</td>\n",
       "      <td>2.332216</td>\n",
       "      <td>1.645088e+08</td>\n",
       "      <td>20040723</td>\n",
       "      <td>NaN</td>\n",
       "      <td>20040713</td>\n",
       "      <td>A</td>\n",
       "      <td>NaN</td>\n",
       "      <td>NaN</td>\n",
       "      <td>0.02496</td>\n",
       "    </tr>\n",
       "    <tr>\n",
       "      <th>4</th>\n",
       "      <td>B</td>\n",
       "      <td>20040609</td>\n",
       "      <td>140800000.0</td>\n",
       "      <td>T</td>\n",
       "      <td>0.02074</td>\n",
       "      <td>USD</td>\n",
       "      <td>2.332216</td>\n",
       "      <td>1.405402e+08</td>\n",
       "      <td>20040723</td>\n",
       "      <td>NaN</td>\n",
       "      <td>20040713</td>\n",
       "      <td>B</td>\n",
       "      <td>NaN</td>\n",
       "      <td>NaN</td>\n",
       "      <td>0.02496</td>\n",
       "    </tr>\n",
       "  </tbody>\n",
       "</table>\n",
       "</div>"
      ],
      "text/plain": [
       "  pf_category  start_date         sold country_code  euribor_rate currency  \\\n",
       "0           B    20040720  110000000.0            T       0.02074      USD   \n",
       "1           A    20040709  176671000.0            N       0.02074      GBP   \n",
       "2           A    20040723   56474000.0            T       0.02074      USD   \n",
       "3           A    20040609  164813000.0            T       0.02074      USD   \n",
       "4           B    20040609  140800000.0            T       0.02074      USD   \n",
       "\n",
       "   libor_rate        bought  creation_date indicator_code  sell_date type  \\\n",
       "0    2.332216  1.098097e+08       20040720            NaN   20040812    B   \n",
       "1    5.269617  1.760084e+08       20040723            NaN   20040812    C   \n",
       "2    2.332216  5.637953e+07       20040723            NaN   20040817    A   \n",
       "3    2.332216  1.645088e+08       20040723            NaN   20040713    A   \n",
       "4    2.332216  1.405402e+08       20040723            NaN   20040713    B   \n",
       "\n",
       "  hedge_value status   return  \n",
       "0         NaN    NaN  0.02496  \n",
       "1         NaN    NaN  0.05496  \n",
       "2         NaN    NaN  0.02496  \n",
       "3         NaN    NaN  0.02496  \n",
       "4         NaN    NaN  0.02496  "
      ]
     },
     "execution_count": 8,
     "metadata": {},
     "output_type": "execute_result"
    }
   ],
   "source": [
    "train.head()"
   ]
  },
  {
   "cell_type": "code",
   "execution_count": 9,
   "metadata": {},
   "outputs": [
    {
     "data": {
      "text/html": [
       "<div>\n",
       "<style>\n",
       "    .dataframe thead tr:only-child th {\n",
       "        text-align: right;\n",
       "    }\n",
       "\n",
       "    .dataframe thead th {\n",
       "        text-align: left;\n",
       "    }\n",
       "\n",
       "    .dataframe tbody tr th {\n",
       "        vertical-align: top;\n",
       "    }\n",
       "</style>\n",
       "<table border=\"1\" class=\"dataframe\">\n",
       "  <thead>\n",
       "    <tr style=\"text-align: right;\">\n",
       "      <th></th>\n",
       "      <th>pf_category</th>\n",
       "      <th>start_date</th>\n",
       "      <th>sold</th>\n",
       "      <th>country_code</th>\n",
       "      <th>euribor_rate</th>\n",
       "      <th>currency</th>\n",
       "      <th>libor_rate</th>\n",
       "      <th>bought</th>\n",
       "      <th>creation_date</th>\n",
       "      <th>indicator_code</th>\n",
       "      <th>sell_date</th>\n",
       "      <th>type</th>\n",
       "      <th>hedge_value</th>\n",
       "      <th>status</th>\n",
       "    </tr>\n",
       "  </thead>\n",
       "  <tbody>\n",
       "    <tr>\n",
       "      <th>0</th>\n",
       "      <td>A</td>\n",
       "      <td>20040720</td>\n",
       "      <td>171831000.0</td>\n",
       "      <td>T</td>\n",
       "      <td>0.02074</td>\n",
       "      <td>USD</td>\n",
       "      <td>2.332216</td>\n",
       "      <td>1.715337e+08</td>\n",
       "      <td>20040720</td>\n",
       "      <td>NaN</td>\n",
       "      <td>20040812</td>\n",
       "      <td>A</td>\n",
       "      <td>NaN</td>\n",
       "      <td>NaN</td>\n",
       "    </tr>\n",
       "    <tr>\n",
       "      <th>1</th>\n",
       "      <td>B</td>\n",
       "      <td>20040723</td>\n",
       "      <td>56485000.0</td>\n",
       "      <td>T</td>\n",
       "      <td>0.02074</td>\n",
       "      <td>USD</td>\n",
       "      <td>2.332216</td>\n",
       "      <td>5.638038e+07</td>\n",
       "      <td>20040723</td>\n",
       "      <td>NaN</td>\n",
       "      <td>20040719</td>\n",
       "      <td>B</td>\n",
       "      <td>NaN</td>\n",
       "      <td>NaN</td>\n",
       "    </tr>\n",
       "    <tr>\n",
       "      <th>2</th>\n",
       "      <td>A</td>\n",
       "      <td>20040607</td>\n",
       "      <td>41734000.0</td>\n",
       "      <td>T</td>\n",
       "      <td>0.02074</td>\n",
       "      <td>USD</td>\n",
       "      <td>2.332216</td>\n",
       "      <td>4.166179e+07</td>\n",
       "      <td>20040726</td>\n",
       "      <td>NaN</td>\n",
       "      <td>20040709</td>\n",
       "      <td>A</td>\n",
       "      <td>NaN</td>\n",
       "      <td>NaN</td>\n",
       "    </tr>\n",
       "    <tr>\n",
       "      <th>3</th>\n",
       "      <td>A</td>\n",
       "      <td>20040716</td>\n",
       "      <td>82951000.0</td>\n",
       "      <td>T</td>\n",
       "      <td>0.02074</td>\n",
       "      <td>USD</td>\n",
       "      <td>2.332216</td>\n",
       "      <td>8.250936e+07</td>\n",
       "      <td>20040726</td>\n",
       "      <td>NaN</td>\n",
       "      <td>20041019</td>\n",
       "      <td>A</td>\n",
       "      <td>NaN</td>\n",
       "      <td>NaN</td>\n",
       "    </tr>\n",
       "    <tr>\n",
       "      <th>4</th>\n",
       "      <td>A</td>\n",
       "      <td>20040713</td>\n",
       "      <td>73293000.0</td>\n",
       "      <td>T</td>\n",
       "      <td>0.02074</td>\n",
       "      <td>USD</td>\n",
       "      <td>2.332216</td>\n",
       "      <td>7.317055e+07</td>\n",
       "      <td>20040726</td>\n",
       "      <td>NaN</td>\n",
       "      <td>20040813</td>\n",
       "      <td>A</td>\n",
       "      <td>NaN</td>\n",
       "      <td>NaN</td>\n",
       "    </tr>\n",
       "  </tbody>\n",
       "</table>\n",
       "</div>"
      ],
      "text/plain": [
       "  pf_category  start_date         sold country_code  euribor_rate currency  \\\n",
       "0           A    20040720  171831000.0            T       0.02074      USD   \n",
       "1           B    20040723   56485000.0            T       0.02074      USD   \n",
       "2           A    20040607   41734000.0            T       0.02074      USD   \n",
       "3           A    20040716   82951000.0            T       0.02074      USD   \n",
       "4           A    20040713   73293000.0            T       0.02074      USD   \n",
       "\n",
       "   libor_rate        bought  creation_date indicator_code  sell_date type  \\\n",
       "0    2.332216  1.715337e+08       20040720            NaN   20040812    A   \n",
       "1    2.332216  5.638038e+07       20040723            NaN   20040719    B   \n",
       "2    2.332216  4.166179e+07       20040726            NaN   20040709    A   \n",
       "3    2.332216  8.250936e+07       20040726            NaN   20041019    A   \n",
       "4    2.332216  7.317055e+07       20040726            NaN   20040813    A   \n",
       "\n",
       "  hedge_value status  \n",
       "0         NaN    NaN  \n",
       "1         NaN    NaN  \n",
       "2         NaN    NaN  \n",
       "3         NaN    NaN  \n",
       "4         NaN    NaN  "
      ]
     },
     "execution_count": 9,
     "metadata": {},
     "output_type": "execute_result"
    }
   ],
   "source": [
    "test.head()"
   ]
  },
  {
   "cell_type": "code",
   "execution_count": 11,
   "metadata": {},
   "outputs": [
    {
     "data": {
      "text/html": [
       "<div>\n",
       "<style>\n",
       "    .dataframe thead tr:only-child th {\n",
       "        text-align: right;\n",
       "    }\n",
       "\n",
       "    .dataframe thead th {\n",
       "        text-align: left;\n",
       "    }\n",
       "\n",
       "    .dataframe tbody tr th {\n",
       "        vertical-align: top;\n",
       "    }\n",
       "</style>\n",
       "<table border=\"1\" class=\"dataframe\">\n",
       "  <thead>\n",
       "    <tr style=\"text-align: right;\">\n",
       "      <th></th>\n",
       "      <th>start_date</th>\n",
       "      <th>sold</th>\n",
       "      <th>euribor_rate</th>\n",
       "      <th>libor_rate</th>\n",
       "      <th>bought</th>\n",
       "      <th>creation_date</th>\n",
       "      <th>sell_date</th>\n",
       "      <th>return</th>\n",
       "    </tr>\n",
       "  </thead>\n",
       "  <tbody>\n",
       "    <tr>\n",
       "      <th>count</th>\n",
       "      <td>9.366000e+03</td>\n",
       "      <td>9.364000e+03</td>\n",
       "      <td>9366.000000</td>\n",
       "      <td>8892.000000</td>\n",
       "      <td>9.364000e+03</td>\n",
       "      <td>9.366000e+03</td>\n",
       "      <td>9.366000e+03</td>\n",
       "      <td>9366.000000</td>\n",
       "    </tr>\n",
       "    <tr>\n",
       "      <th>mean</th>\n",
       "      <td>2.011706e+07</td>\n",
       "      <td>1.019740e+08</td>\n",
       "      <td>0.009383</td>\n",
       "      <td>0.998066</td>\n",
       "      <td>1.018914e+08</td>\n",
       "      <td>2.011706e+07</td>\n",
       "      <td>2.011770e+07</td>\n",
       "      <td>0.014100</td>\n",
       "    </tr>\n",
       "    <tr>\n",
       "      <th>std</th>\n",
       "      <td>3.052996e+04</td>\n",
       "      <td>1.928066e+08</td>\n",
       "      <td>0.013298</td>\n",
       "      <td>1.457977</td>\n",
       "      <td>1.927472e+08</td>\n",
       "      <td>3.052372e+04</td>\n",
       "      <td>3.060900e+04</td>\n",
       "      <td>0.020549</td>\n",
       "    </tr>\n",
       "    <tr>\n",
       "      <th>min</th>\n",
       "      <td>2.004041e+07</td>\n",
       "      <td>1.100000e+00</td>\n",
       "      <td>-0.003740</td>\n",
       "      <td>-0.667095</td>\n",
       "      <td>1.099698e+00</td>\n",
       "      <td>2.004072e+07</td>\n",
       "      <td>2.004071e+07</td>\n",
       "      <td>-0.009600</td>\n",
       "    </tr>\n",
       "    <tr>\n",
       "      <th>25%</th>\n",
       "      <td>2.010020e+07</td>\n",
       "      <td>2.763200e+07</td>\n",
       "      <td>0.000980</td>\n",
       "      <td>0.244490</td>\n",
       "      <td>2.761285e+07</td>\n",
       "      <td>2.010020e+07</td>\n",
       "      <td>2.010023e+07</td>\n",
       "      <td>0.003000</td>\n",
       "    </tr>\n",
       "    <tr>\n",
       "      <th>50%</th>\n",
       "      <td>2.011120e+07</td>\n",
       "      <td>5.517050e+07</td>\n",
       "      <td>0.004390</td>\n",
       "      <td>0.531983</td>\n",
       "      <td>5.512056e+07</td>\n",
       "      <td>2.011120e+07</td>\n",
       "      <td>2.011121e+07</td>\n",
       "      <td>0.005400</td>\n",
       "    </tr>\n",
       "    <tr>\n",
       "      <th>75%</th>\n",
       "      <td>2.014071e+07</td>\n",
       "      <td>1.144632e+08</td>\n",
       "      <td>0.013510</td>\n",
       "      <td>1.109959</td>\n",
       "      <td>1.144459e+08</td>\n",
       "      <td>2.014071e+07</td>\n",
       "      <td>2.014083e+07</td>\n",
       "      <td>0.014520</td>\n",
       "    </tr>\n",
       "    <tr>\n",
       "      <th>max</th>\n",
       "      <td>2.017103e+07</td>\n",
       "      <td>1.320000e+10</td>\n",
       "      <td>0.050880</td>\n",
       "      <td>6.379137</td>\n",
       "      <td>1.320000e+10</td>\n",
       "      <td>2.017103e+07</td>\n",
       "      <td>2.017103e+07</td>\n",
       "      <td>0.778441</td>\n",
       "    </tr>\n",
       "  </tbody>\n",
       "</table>\n",
       "</div>"
      ],
      "text/plain": [
       "         start_date          sold  euribor_rate   libor_rate        bought  \\\n",
       "count  9.366000e+03  9.364000e+03   9366.000000  8892.000000  9.364000e+03   \n",
       "mean   2.011706e+07  1.019740e+08      0.009383     0.998066  1.018914e+08   \n",
       "std    3.052996e+04  1.928066e+08      0.013298     1.457977  1.927472e+08   \n",
       "min    2.004041e+07  1.100000e+00     -0.003740    -0.667095  1.099698e+00   \n",
       "25%    2.010020e+07  2.763200e+07      0.000980     0.244490  2.761285e+07   \n",
       "50%    2.011120e+07  5.517050e+07      0.004390     0.531983  5.512056e+07   \n",
       "75%    2.014071e+07  1.144632e+08      0.013510     1.109959  1.144459e+08   \n",
       "max    2.017103e+07  1.320000e+10      0.050880     6.379137  1.320000e+10   \n",
       "\n",
       "       creation_date     sell_date       return  \n",
       "count   9.366000e+03  9.366000e+03  9366.000000  \n",
       "mean    2.011706e+07  2.011770e+07     0.014100  \n",
       "std     3.052372e+04  3.060900e+04     0.020549  \n",
       "min     2.004072e+07  2.004071e+07    -0.009600  \n",
       "25%     2.010020e+07  2.010023e+07     0.003000  \n",
       "50%     2.011120e+07  2.011121e+07     0.005400  \n",
       "75%     2.014071e+07  2.014083e+07     0.014520  \n",
       "max     2.017103e+07  2.017103e+07     0.778441  "
      ]
     },
     "execution_count": 11,
     "metadata": {},
     "output_type": "execute_result"
    }
   ],
   "source": [
    "train.describe()"
   ]
  },
  {
   "cell_type": "code",
   "execution_count": 12,
   "metadata": {},
   "outputs": [
    {
     "data": {
      "text/html": [
       "<div>\n",
       "<style>\n",
       "    .dataframe thead tr:only-child th {\n",
       "        text-align: right;\n",
       "    }\n",
       "\n",
       "    .dataframe thead th {\n",
       "        text-align: left;\n",
       "    }\n",
       "\n",
       "    .dataframe tbody tr th {\n",
       "        vertical-align: top;\n",
       "    }\n",
       "</style>\n",
       "<table border=\"1\" class=\"dataframe\">\n",
       "  <thead>\n",
       "    <tr style=\"text-align: right;\">\n",
       "      <th></th>\n",
       "      <th>start_date</th>\n",
       "      <th>sold</th>\n",
       "      <th>euribor_rate</th>\n",
       "      <th>libor_rate</th>\n",
       "      <th>bought</th>\n",
       "      <th>creation_date</th>\n",
       "      <th>sell_date</th>\n",
       "    </tr>\n",
       "  </thead>\n",
       "  <tbody>\n",
       "    <tr>\n",
       "      <th>count</th>\n",
       "      <td>4.801000e+03</td>\n",
       "      <td>4.801000e+03</td>\n",
       "      <td>4801.000000</td>\n",
       "      <td>4536.000000</td>\n",
       "      <td>4.801000e+03</td>\n",
       "      <td>4.801000e+03</td>\n",
       "      <td>4.801000e+03</td>\n",
       "    </tr>\n",
       "    <tr>\n",
       "      <th>mean</th>\n",
       "      <td>2.011849e+07</td>\n",
       "      <td>1.024942e+08</td>\n",
       "      <td>0.008717</td>\n",
       "      <td>0.930464</td>\n",
       "      <td>1.024165e+08</td>\n",
       "      <td>2.011849e+07</td>\n",
       "      <td>2.011911e+07</td>\n",
       "    </tr>\n",
       "    <tr>\n",
       "      <th>std</th>\n",
       "      <td>2.992170e+04</td>\n",
       "      <td>1.356065e+08</td>\n",
       "      <td>0.012747</td>\n",
       "      <td>1.387474</td>\n",
       "      <td>1.355206e+08</td>\n",
       "      <td>2.991692e+04</td>\n",
       "      <td>3.005556e+04</td>\n",
       "    </tr>\n",
       "    <tr>\n",
       "      <th>min</th>\n",
       "      <td>2.004061e+07</td>\n",
       "      <td>1.100000e+00</td>\n",
       "      <td>-0.003740</td>\n",
       "      <td>-0.667095</td>\n",
       "      <td>1.099989e+00</td>\n",
       "      <td>2.004072e+07</td>\n",
       "      <td>2.004071e+07</td>\n",
       "    </tr>\n",
       "    <tr>\n",
       "      <th>25%</th>\n",
       "      <td>2.010052e+07</td>\n",
       "      <td>2.891900e+07</td>\n",
       "      <td>0.000970</td>\n",
       "      <td>0.240305</td>\n",
       "      <td>2.891866e+07</td>\n",
       "      <td>2.010053e+07</td>\n",
       "      <td>2.010061e+07</td>\n",
       "    </tr>\n",
       "    <tr>\n",
       "      <th>50%</th>\n",
       "      <td>2.012010e+07</td>\n",
       "      <td>5.725500e+07</td>\n",
       "      <td>0.004250</td>\n",
       "      <td>0.531493</td>\n",
       "      <td>5.725304e+07</td>\n",
       "      <td>2.012010e+07</td>\n",
       "      <td>2.012011e+07</td>\n",
       "    </tr>\n",
       "    <tr>\n",
       "      <th>75%</th>\n",
       "      <td>2.014083e+07</td>\n",
       "      <td>1.210000e+08</td>\n",
       "      <td>0.013320</td>\n",
       "      <td>1.065318</td>\n",
       "      <td>1.209652e+08</td>\n",
       "      <td>2.014083e+07</td>\n",
       "      <td>2.014100e+07</td>\n",
       "    </tr>\n",
       "    <tr>\n",
       "      <th>max</th>\n",
       "      <td>2.017103e+07</td>\n",
       "      <td>1.560212e+09</td>\n",
       "      <td>0.050880</td>\n",
       "      <td>6.434407</td>\n",
       "      <td>1.560168e+09</td>\n",
       "      <td>2.017103e+07</td>\n",
       "      <td>2.017103e+07</td>\n",
       "    </tr>\n",
       "  </tbody>\n",
       "</table>\n",
       "</div>"
      ],
      "text/plain": [
       "         start_date          sold  euribor_rate   libor_rate        bought  \\\n",
       "count  4.801000e+03  4.801000e+03   4801.000000  4536.000000  4.801000e+03   \n",
       "mean   2.011849e+07  1.024942e+08      0.008717     0.930464  1.024165e+08   \n",
       "std    2.992170e+04  1.356065e+08      0.012747     1.387474  1.355206e+08   \n",
       "min    2.004061e+07  1.100000e+00     -0.003740    -0.667095  1.099989e+00   \n",
       "25%    2.010052e+07  2.891900e+07      0.000970     0.240305  2.891866e+07   \n",
       "50%    2.012010e+07  5.725500e+07      0.004250     0.531493  5.725304e+07   \n",
       "75%    2.014083e+07  1.210000e+08      0.013320     1.065318  1.209652e+08   \n",
       "max    2.017103e+07  1.560212e+09      0.050880     6.434407  1.560168e+09   \n",
       "\n",
       "       creation_date     sell_date  \n",
       "count   4.801000e+03  4.801000e+03  \n",
       "mean    2.011849e+07  2.011911e+07  \n",
       "std     2.991692e+04  3.005556e+04  \n",
       "min     2.004072e+07  2.004071e+07  \n",
       "25%     2.010053e+07  2.010061e+07  \n",
       "50%     2.012010e+07  2.012011e+07  \n",
       "75%     2.014083e+07  2.014100e+07  \n",
       "max     2.017103e+07  2.017103e+07  "
      ]
     },
     "execution_count": 12,
     "metadata": {},
     "output_type": "execute_result"
    }
   ],
   "source": [
    "test.describe()"
   ]
  },
  {
   "cell_type": "code",
   "execution_count": 13,
   "metadata": {},
   "outputs": [
    {
     "name": "stdout",
     "output_type": "stream",
     "text": [
      "<class 'pandas.core.frame.DataFrame'>\n",
      "RangeIndex: 9366 entries, 0 to 9365\n",
      "Data columns (total 15 columns):\n",
      "pf_category       9366 non-null object\n",
      "start_date        9366 non-null int64\n",
      "sold              9364 non-null float64\n",
      "country_code      9366 non-null object\n",
      "euribor_rate      9366 non-null float64\n",
      "currency          9366 non-null object\n",
      "libor_rate        8892 non-null float64\n",
      "bought            9364 non-null float64\n",
      "creation_date     9366 non-null int64\n",
      "indicator_code    3667 non-null object\n",
      "sell_date         9366 non-null int64\n",
      "type              9366 non-null object\n",
      "hedge_value       3665 non-null object\n",
      "status            6282 non-null object\n",
      "return            9366 non-null float64\n",
      "dtypes: float64(5), int64(3), object(7)\n",
      "memory usage: 1.1+ MB\n"
     ]
    }
   ],
   "source": [
    "train.info()"
   ]
  },
  {
   "cell_type": "code",
   "execution_count": 14,
   "metadata": {},
   "outputs": [
    {
     "name": "stdout",
     "output_type": "stream",
     "text": [
      "<class 'pandas.core.frame.DataFrame'>\n",
      "RangeIndex: 4801 entries, 0 to 4800\n",
      "Data columns (total 14 columns):\n",
      "pf_category       4801 non-null object\n",
      "start_date        4801 non-null int64\n",
      "sold              4801 non-null float64\n",
      "country_code      4801 non-null object\n",
      "euribor_rate      4801 non-null float64\n",
      "currency          4801 non-null object\n",
      "libor_rate        4536 non-null float64\n",
      "bought            4801 non-null float64\n",
      "creation_date     4801 non-null int64\n",
      "indicator_code    1950 non-null object\n",
      "sell_date         4801 non-null int64\n",
      "type              4801 non-null object\n",
      "hedge_value       1950 non-null object\n",
      "status            3344 non-null object\n",
      "dtypes: float64(4), int64(3), object(7)\n",
      "memory usage: 525.2+ KB\n"
     ]
    }
   ],
   "source": [
    "test.info()"
   ]
  },
  {
   "cell_type": "code",
   "execution_count": 15,
   "metadata": {},
   "outputs": [
    {
     "data": {
      "text/plain": [
       "pf_category        object\n",
       "start_date          int64\n",
       "sold              float64\n",
       "country_code       object\n",
       "euribor_rate      float64\n",
       "currency           object\n",
       "libor_rate        float64\n",
       "bought            float64\n",
       "creation_date       int64\n",
       "indicator_code     object\n",
       "sell_date           int64\n",
       "type               object\n",
       "hedge_value        object\n",
       "status             object\n",
       "return            float64\n",
       "dtype: object"
      ]
     },
     "execution_count": 15,
     "metadata": {},
     "output_type": "execute_result"
    }
   ],
   "source": [
    "train.dtypes"
   ]
  },
  {
   "cell_type": "code",
   "execution_count": 17,
   "metadata": {},
   "outputs": [
    {
     "data": {
      "text/plain": [
       "pf_category        object\n",
       "start_date          int64\n",
       "sold              float64\n",
       "country_code       object\n",
       "euribor_rate      float64\n",
       "currency           object\n",
       "libor_rate        float64\n",
       "bought            float64\n",
       "creation_date       int64\n",
       "indicator_code     object\n",
       "sell_date           int64\n",
       "type               object\n",
       "hedge_value        object\n",
       "status             object\n",
       "dtype: object"
      ]
     },
     "execution_count": 17,
     "metadata": {},
     "output_type": "execute_result"
    }
   ],
   "source": [
    "test.dtypes"
   ]
  },
  {
   "cell_type": "markdown",
   "metadata": {},
   "source": [
    "## 1. Data Preprocessing"
   ]
  },
  {
   "cell_type": "markdown",
   "metadata": {},
   "source": [
    "### 1.1 Missing Values Handling"
   ]
  },
  {
   "cell_type": "code",
   "execution_count": 19,
   "metadata": {},
   "outputs": [
    {
     "data": {
      "text/plain": [
       "pf_category          0\n",
       "start_date           0\n",
       "sold                 2\n",
       "country_code         0\n",
       "euribor_rate         0\n",
       "currency             0\n",
       "libor_rate         474\n",
       "bought               2\n",
       "creation_date        0\n",
       "indicator_code    5699\n",
       "sell_date            0\n",
       "type                 0\n",
       "hedge_value       5701\n",
       "status            3084\n",
       "return               0\n",
       "dtype: int64"
      ]
     },
     "execution_count": 19,
     "metadata": {},
     "output_type": "execute_result"
    }
   ],
   "source": [
    "train.isnull().sum()"
   ]
  },
  {
   "cell_type": "code",
   "execution_count": 20,
   "metadata": {},
   "outputs": [
    {
     "data": {
      "text/plain": [
       "pf_category          0\n",
       "start_date           0\n",
       "sold                 0\n",
       "country_code         0\n",
       "euribor_rate         0\n",
       "currency             0\n",
       "libor_rate         265\n",
       "bought               0\n",
       "creation_date        0\n",
       "indicator_code    2851\n",
       "sell_date            0\n",
       "type                 0\n",
       "hedge_value       2851\n",
       "status            1457\n",
       "dtype: int64"
      ]
     },
     "execution_count": 20,
     "metadata": {},
     "output_type": "execute_result"
    }
   ],
   "source": [
    "test.isnull().sum()"
   ]
  },
  {
   "cell_type": "markdown",
   "metadata": {},
   "source": [
    "#### Sold(Drop Missing Values)"
   ]
  },
  {
   "cell_type": "code",
   "execution_count": 28,
   "metadata": {},
   "outputs": [],
   "source": [
    "train.sold.dropna(inplace=True)"
   ]
  },
  {
   "cell_type": "code",
   "execution_count": 29,
   "metadata": {},
   "outputs": [
    {
     "data": {
      "text/plain": [
       "0"
      ]
     },
     "execution_count": 29,
     "metadata": {},
     "output_type": "execute_result"
    }
   ],
   "source": [
    "train.sold.isnull().sum()"
   ]
  },
  {
   "cell_type": "markdown",
   "metadata": {},
   "source": [
    "#### Libor_Rate( Imputing With Mean)"
   ]
  },
  {
   "cell_type": "code",
   "execution_count": 4,
   "metadata": {},
   "outputs": [],
   "source": [
    "train.libor_rate=train.libor_rate.fillna(train.libor_rate.mean())"
   ]
  },
  {
   "cell_type": "code",
   "execution_count": 5,
   "metadata": {},
   "outputs": [],
   "source": [
    "test.libor_rate=test.libor_rate.fillna(train.libor_rate.mean())"
   ]
  },
  {
   "cell_type": "code",
   "execution_count": 6,
   "metadata": {},
   "outputs": [
    {
     "data": {
      "text/plain": [
       "0"
      ]
     },
     "execution_count": 6,
     "metadata": {},
     "output_type": "execute_result"
    }
   ],
   "source": [
    "train.libor_rate.isnull().sum()"
   ]
  },
  {
   "cell_type": "code",
   "execution_count": 33,
   "metadata": {},
   "outputs": [
    {
     "data": {
      "text/plain": [
       "0"
      ]
     },
     "execution_count": 33,
     "metadata": {},
     "output_type": "execute_result"
    }
   ],
   "source": [
    "test.libor_rate.isnull().sum()"
   ]
  },
  {
   "cell_type": "markdown",
   "metadata": {},
   "source": [
    "#### Indicator_Code (Imputed with \"-999\" value)"
   ]
  },
  {
   "cell_type": "code",
   "execution_count": 47,
   "metadata": {},
   "outputs": [
    {
     "data": {
      "text/plain": [
       "bool"
      ]
     },
     "execution_count": 47,
     "metadata": {},
     "output_type": "execute_result"
    }
   ],
   "source": [
    "type(train.indicator_code[9336])"
   ]
  },
  {
   "cell_type": "code",
   "execution_count": 7,
   "metadata": {},
   "outputs": [],
   "source": [
    "train.indicator_code=train.indicator_code.fillna(-999)"
   ]
  },
  {
   "cell_type": "code",
   "execution_count": 8,
   "metadata": {},
   "outputs": [],
   "source": [
    "test.indicator_code=test.indicator_code.fillna(-999)"
   ]
  },
  {
   "cell_type": "code",
   "execution_count": 50,
   "metadata": {},
   "outputs": [
    {
     "data": {
      "text/plain": [
       "int"
      ]
     },
     "execution_count": 50,
     "metadata": {},
     "output_type": "execute_result"
    }
   ],
   "source": [
    "type(train.indicator_code[0])"
   ]
  },
  {
   "cell_type": "code",
   "execution_count": 51,
   "metadata": {},
   "outputs": [
    {
     "data": {
      "text/plain": [
       "0"
      ]
     },
     "execution_count": 51,
     "metadata": {},
     "output_type": "execute_result"
    }
   ],
   "source": [
    "test.indicator_code.isnull().sum()"
   ]
  },
  {
   "cell_type": "code",
   "execution_count": 52,
   "metadata": {},
   "outputs": [
    {
     "data": {
      "text/plain": [
       "0"
      ]
     },
     "execution_count": 52,
     "metadata": {},
     "output_type": "execute_result"
    }
   ],
   "source": [
    "train.indicator_code.isnull().sum()"
   ]
  },
  {
   "cell_type": "markdown",
   "metadata": {},
   "source": [
    "#### Hedge Values (Imputed with False)"
   ]
  },
  {
   "cell_type": "code",
   "execution_count": 9,
   "metadata": {},
   "outputs": [],
   "source": [
    "train.hedge_value=train.hedge_value.fillna(False)"
   ]
  },
  {
   "cell_type": "code",
   "execution_count": 10,
   "metadata": {},
   "outputs": [],
   "source": [
    "test.hedge_value=test.hedge_value.fillna(False)"
   ]
  },
  {
   "cell_type": "code",
   "execution_count": 57,
   "metadata": {},
   "outputs": [
    {
     "data": {
      "text/plain": [
       "0"
      ]
     },
     "execution_count": 57,
     "metadata": {},
     "output_type": "execute_result"
    }
   ],
   "source": [
    "train.hedge_value.isnull().sum()"
   ]
  },
  {
   "cell_type": "code",
   "execution_count": 58,
   "metadata": {},
   "outputs": [
    {
     "data": {
      "text/plain": [
       "0"
      ]
     },
     "execution_count": 58,
     "metadata": {},
     "output_type": "execute_result"
    }
   ],
   "source": [
    "test.hedge_value.isnull().sum()"
   ]
  },
  {
   "cell_type": "markdown",
   "metadata": {},
   "source": [
    "#### Status (Imputed with False)"
   ]
  },
  {
   "cell_type": "code",
   "execution_count": 11,
   "metadata": {},
   "outputs": [],
   "source": [
    "train.status=train.status.fillna(False)"
   ]
  },
  {
   "cell_type": "code",
   "execution_count": 12,
   "metadata": {},
   "outputs": [],
   "source": [
    "test.status=test.status.fillna(False)"
   ]
  },
  {
   "cell_type": "code",
   "execution_count": 63,
   "metadata": {},
   "outputs": [
    {
     "data": {
      "text/plain": [
       "0"
      ]
     },
     "execution_count": 63,
     "metadata": {},
     "output_type": "execute_result"
    }
   ],
   "source": [
    "train.status.isnull().sum()"
   ]
  },
  {
   "cell_type": "code",
   "execution_count": 66,
   "metadata": {},
   "outputs": [
    {
     "data": {
      "text/plain": [
       "pf_category       0\n",
       "start_date        0\n",
       "sold              2\n",
       "country_code      0\n",
       "euribor_rate      0\n",
       "currency          0\n",
       "libor_rate        0\n",
       "bought            2\n",
       "creation_date     0\n",
       "indicator_code    0\n",
       "sell_date         0\n",
       "type              0\n",
       "hedge_value       0\n",
       "status            0\n",
       "return            0\n",
       "dtype: int64"
      ]
     },
     "execution_count": 66,
     "metadata": {},
     "output_type": "execute_result"
    }
   ],
   "source": [
    "train.isnull().sum()"
   ]
  },
  {
   "cell_type": "code",
   "execution_count": 67,
   "metadata": {},
   "outputs": [
    {
     "data": {
      "text/plain": [
       "pf_category       0\n",
       "start_date        0\n",
       "sold              0\n",
       "country_code      0\n",
       "euribor_rate      0\n",
       "currency          0\n",
       "libor_rate        0\n",
       "bought            0\n",
       "creation_date     0\n",
       "indicator_code    0\n",
       "sell_date         0\n",
       "type              0\n",
       "hedge_value       0\n",
       "status            0\n",
       "dtype: int64"
      ]
     },
     "execution_count": 67,
     "metadata": {},
     "output_type": "execute_result"
    }
   ],
   "source": [
    "test.isnull().sum()"
   ]
  },
  {
   "cell_type": "code",
   "execution_count": 68,
   "metadata": {},
   "outputs": [],
   "source": [
    "train.dropna(inplace=True)"
   ]
  },
  {
   "cell_type": "markdown",
   "metadata": {},
   "source": [
    "## 1.2 Label Encoding for Categorical Variables"
   ]
  },
  {
   "cell_type": "code",
   "execution_count": 70,
   "metadata": {},
   "outputs": [
    {
     "data": {
      "text/html": [
       "<div>\n",
       "<style>\n",
       "    .dataframe thead tr:only-child th {\n",
       "        text-align: right;\n",
       "    }\n",
       "\n",
       "    .dataframe thead th {\n",
       "        text-align: left;\n",
       "    }\n",
       "\n",
       "    .dataframe tbody tr th {\n",
       "        vertical-align: top;\n",
       "    }\n",
       "</style>\n",
       "<table border=\"1\" class=\"dataframe\">\n",
       "  <thead>\n",
       "    <tr style=\"text-align: right;\">\n",
       "      <th></th>\n",
       "      <th>pf_category</th>\n",
       "      <th>start_date</th>\n",
       "      <th>sold</th>\n",
       "      <th>country_code</th>\n",
       "      <th>euribor_rate</th>\n",
       "      <th>currency</th>\n",
       "      <th>libor_rate</th>\n",
       "      <th>bought</th>\n",
       "      <th>creation_date</th>\n",
       "      <th>indicator_code</th>\n",
       "      <th>sell_date</th>\n",
       "      <th>type</th>\n",
       "      <th>hedge_value</th>\n",
       "      <th>status</th>\n",
       "      <th>return</th>\n",
       "    </tr>\n",
       "  </thead>\n",
       "  <tbody>\n",
       "    <tr>\n",
       "      <th>0</th>\n",
       "      <td>B</td>\n",
       "      <td>20040720</td>\n",
       "      <td>110000000.0</td>\n",
       "      <td>T</td>\n",
       "      <td>0.02074</td>\n",
       "      <td>USD</td>\n",
       "      <td>2.332216</td>\n",
       "      <td>1.098097e+08</td>\n",
       "      <td>20040720</td>\n",
       "      <td>-999</td>\n",
       "      <td>20040812</td>\n",
       "      <td>B</td>\n",
       "      <td>False</td>\n",
       "      <td>False</td>\n",
       "      <td>0.02496</td>\n",
       "    </tr>\n",
       "    <tr>\n",
       "      <th>1</th>\n",
       "      <td>A</td>\n",
       "      <td>20040709</td>\n",
       "      <td>176671000.0</td>\n",
       "      <td>N</td>\n",
       "      <td>0.02074</td>\n",
       "      <td>GBP</td>\n",
       "      <td>5.269617</td>\n",
       "      <td>1.760084e+08</td>\n",
       "      <td>20040723</td>\n",
       "      <td>-999</td>\n",
       "      <td>20040812</td>\n",
       "      <td>C</td>\n",
       "      <td>False</td>\n",
       "      <td>False</td>\n",
       "      <td>0.05496</td>\n",
       "    </tr>\n",
       "    <tr>\n",
       "      <th>2</th>\n",
       "      <td>A</td>\n",
       "      <td>20040723</td>\n",
       "      <td>56474000.0</td>\n",
       "      <td>T</td>\n",
       "      <td>0.02074</td>\n",
       "      <td>USD</td>\n",
       "      <td>2.332216</td>\n",
       "      <td>5.637953e+07</td>\n",
       "      <td>20040723</td>\n",
       "      <td>-999</td>\n",
       "      <td>20040817</td>\n",
       "      <td>A</td>\n",
       "      <td>False</td>\n",
       "      <td>False</td>\n",
       "      <td>0.02496</td>\n",
       "    </tr>\n",
       "    <tr>\n",
       "      <th>3</th>\n",
       "      <td>A</td>\n",
       "      <td>20040609</td>\n",
       "      <td>164813000.0</td>\n",
       "      <td>T</td>\n",
       "      <td>0.02074</td>\n",
       "      <td>USD</td>\n",
       "      <td>2.332216</td>\n",
       "      <td>1.645088e+08</td>\n",
       "      <td>20040723</td>\n",
       "      <td>-999</td>\n",
       "      <td>20040713</td>\n",
       "      <td>A</td>\n",
       "      <td>False</td>\n",
       "      <td>False</td>\n",
       "      <td>0.02496</td>\n",
       "    </tr>\n",
       "    <tr>\n",
       "      <th>4</th>\n",
       "      <td>B</td>\n",
       "      <td>20040609</td>\n",
       "      <td>140800000.0</td>\n",
       "      <td>T</td>\n",
       "      <td>0.02074</td>\n",
       "      <td>USD</td>\n",
       "      <td>2.332216</td>\n",
       "      <td>1.405402e+08</td>\n",
       "      <td>20040723</td>\n",
       "      <td>-999</td>\n",
       "      <td>20040713</td>\n",
       "      <td>B</td>\n",
       "      <td>False</td>\n",
       "      <td>False</td>\n",
       "      <td>0.02496</td>\n",
       "    </tr>\n",
       "  </tbody>\n",
       "</table>\n",
       "</div>"
      ],
      "text/plain": [
       "  pf_category  start_date         sold country_code  euribor_rate currency  \\\n",
       "0           B    20040720  110000000.0            T       0.02074      USD   \n",
       "1           A    20040709  176671000.0            N       0.02074      GBP   \n",
       "2           A    20040723   56474000.0            T       0.02074      USD   \n",
       "3           A    20040609  164813000.0            T       0.02074      USD   \n",
       "4           B    20040609  140800000.0            T       0.02074      USD   \n",
       "\n",
       "   libor_rate        bought  creation_date indicator_code  sell_date type  \\\n",
       "0    2.332216  1.098097e+08       20040720           -999   20040812    B   \n",
       "1    5.269617  1.760084e+08       20040723           -999   20040812    C   \n",
       "2    2.332216  5.637953e+07       20040723           -999   20040817    A   \n",
       "3    2.332216  1.645088e+08       20040723           -999   20040713    A   \n",
       "4    2.332216  1.405402e+08       20040723           -999   20040713    B   \n",
       "\n",
       "   hedge_value  status   return  \n",
       "0        False   False  0.02496  \n",
       "1        False   False  0.05496  \n",
       "2        False   False  0.02496  \n",
       "3        False   False  0.02496  \n",
       "4        False   False  0.02496  "
      ]
     },
     "execution_count": 70,
     "metadata": {},
     "output_type": "execute_result"
    }
   ],
   "source": [
    "train.head()"
   ]
  },
  {
   "cell_type": "code",
   "execution_count": 13,
   "metadata": {},
   "outputs": [],
   "source": [
    "pf_cat={\"A\":0,\"B\":1,\"C\":2,\"D\":3,\"E\":4}\n",
    "cc={\"M\":0,\"N\":1,\"T\":2,\"U\":3,\"Z\":4}\n",
    "typ={\"A\":0,\"B\":1,\"C\":2,\"D\":3,\"E\":4,\"F\":5,\"G\":6,\"H\":7}\n",
    "hedge={True:1,False:0}\n",
    "stat={True:1,False:0}\n",
    "indi={True:1,-999:-999}"
   ]
  },
  {
   "cell_type": "code",
   "execution_count": 14,
   "metadata": {},
   "outputs": [],
   "source": [
    "train.pf_category=train.pf_category.apply(lambda x: pf_cat[x])\n",
    "test.pf_category=test.pf_category.apply(lambda x: pf_cat[x])"
   ]
  },
  {
   "cell_type": "code",
   "execution_count": 15,
   "metadata": {},
   "outputs": [],
   "source": [
    "train.country_code=train.country_code.apply(lambda x: cc[x])\n",
    "test.country_code=test.country_code.apply(lambda x: cc[x])"
   ]
  },
  {
   "cell_type": "code",
   "execution_count": 16,
   "metadata": {},
   "outputs": [],
   "source": [
    "train.type=train.type.apply(lambda x: typ[x])\n",
    "test.type=test.type.apply(lambda x: typ[x])"
   ]
  },
  {
   "cell_type": "code",
   "execution_count": 17,
   "metadata": {},
   "outputs": [],
   "source": [
    "train.hedge_value=train.hedge_value.apply(lambda x: hedge[x])\n",
    "test.hedge_value=test.hedge_value.apply(lambda x: hedge[x])"
   ]
  },
  {
   "cell_type": "code",
   "execution_count": 18,
   "metadata": {},
   "outputs": [],
   "source": [
    "train.status=train.status.apply(lambda x: stat[x])\n",
    "test.status=test.status.apply(lambda x: stat[x])"
   ]
  },
  {
   "cell_type": "code",
   "execution_count": 19,
   "metadata": {},
   "outputs": [],
   "source": [
    "train.indicator_code=train.indicator_code.apply(lambda x: indi[x])\n",
    "test.indicator_code=test.indicator_code.apply(lambda x: indi[x])"
   ]
  },
  {
   "cell_type": "code",
   "execution_count": 20,
   "metadata": {},
   "outputs": [
    {
     "data": {
      "text/html": [
       "<div>\n",
       "<style>\n",
       "    .dataframe thead tr:only-child th {\n",
       "        text-align: right;\n",
       "    }\n",
       "\n",
       "    .dataframe thead th {\n",
       "        text-align: left;\n",
       "    }\n",
       "\n",
       "    .dataframe tbody tr th {\n",
       "        vertical-align: top;\n",
       "    }\n",
       "</style>\n",
       "<table border=\"1\" class=\"dataframe\">\n",
       "  <thead>\n",
       "    <tr style=\"text-align: right;\">\n",
       "      <th></th>\n",
       "      <th>pf_category</th>\n",
       "      <th>start_date</th>\n",
       "      <th>sold</th>\n",
       "      <th>country_code</th>\n",
       "      <th>euribor_rate</th>\n",
       "      <th>currency</th>\n",
       "      <th>libor_rate</th>\n",
       "      <th>bought</th>\n",
       "      <th>creation_date</th>\n",
       "      <th>indicator_code</th>\n",
       "      <th>sell_date</th>\n",
       "      <th>type</th>\n",
       "      <th>hedge_value</th>\n",
       "      <th>status</th>\n",
       "      <th>return</th>\n",
       "    </tr>\n",
       "  </thead>\n",
       "  <tbody>\n",
       "    <tr>\n",
       "      <th>0</th>\n",
       "      <td>1</td>\n",
       "      <td>20040720</td>\n",
       "      <td>110000000.0</td>\n",
       "      <td>2</td>\n",
       "      <td>0.02074</td>\n",
       "      <td>USD</td>\n",
       "      <td>2.332216</td>\n",
       "      <td>1.098097e+08</td>\n",
       "      <td>20040720</td>\n",
       "      <td>-999</td>\n",
       "      <td>20040812</td>\n",
       "      <td>1</td>\n",
       "      <td>0</td>\n",
       "      <td>0</td>\n",
       "      <td>0.02496</td>\n",
       "    </tr>\n",
       "    <tr>\n",
       "      <th>1</th>\n",
       "      <td>0</td>\n",
       "      <td>20040709</td>\n",
       "      <td>176671000.0</td>\n",
       "      <td>1</td>\n",
       "      <td>0.02074</td>\n",
       "      <td>GBP</td>\n",
       "      <td>5.269617</td>\n",
       "      <td>1.760084e+08</td>\n",
       "      <td>20040723</td>\n",
       "      <td>-999</td>\n",
       "      <td>20040812</td>\n",
       "      <td>2</td>\n",
       "      <td>0</td>\n",
       "      <td>0</td>\n",
       "      <td>0.05496</td>\n",
       "    </tr>\n",
       "    <tr>\n",
       "      <th>2</th>\n",
       "      <td>0</td>\n",
       "      <td>20040723</td>\n",
       "      <td>56474000.0</td>\n",
       "      <td>2</td>\n",
       "      <td>0.02074</td>\n",
       "      <td>USD</td>\n",
       "      <td>2.332216</td>\n",
       "      <td>5.637953e+07</td>\n",
       "      <td>20040723</td>\n",
       "      <td>-999</td>\n",
       "      <td>20040817</td>\n",
       "      <td>0</td>\n",
       "      <td>0</td>\n",
       "      <td>0</td>\n",
       "      <td>0.02496</td>\n",
       "    </tr>\n",
       "    <tr>\n",
       "      <th>3</th>\n",
       "      <td>0</td>\n",
       "      <td>20040609</td>\n",
       "      <td>164813000.0</td>\n",
       "      <td>2</td>\n",
       "      <td>0.02074</td>\n",
       "      <td>USD</td>\n",
       "      <td>2.332216</td>\n",
       "      <td>1.645088e+08</td>\n",
       "      <td>20040723</td>\n",
       "      <td>-999</td>\n",
       "      <td>20040713</td>\n",
       "      <td>0</td>\n",
       "      <td>0</td>\n",
       "      <td>0</td>\n",
       "      <td>0.02496</td>\n",
       "    </tr>\n",
       "    <tr>\n",
       "      <th>4</th>\n",
       "      <td>1</td>\n",
       "      <td>20040609</td>\n",
       "      <td>140800000.0</td>\n",
       "      <td>2</td>\n",
       "      <td>0.02074</td>\n",
       "      <td>USD</td>\n",
       "      <td>2.332216</td>\n",
       "      <td>1.405402e+08</td>\n",
       "      <td>20040723</td>\n",
       "      <td>-999</td>\n",
       "      <td>20040713</td>\n",
       "      <td>1</td>\n",
       "      <td>0</td>\n",
       "      <td>0</td>\n",
       "      <td>0.02496</td>\n",
       "    </tr>\n",
       "  </tbody>\n",
       "</table>\n",
       "</div>"
      ],
      "text/plain": [
       "   pf_category  start_date         sold  country_code  euribor_rate currency  \\\n",
       "0            1    20040720  110000000.0             2       0.02074      USD   \n",
       "1            0    20040709  176671000.0             1       0.02074      GBP   \n",
       "2            0    20040723   56474000.0             2       0.02074      USD   \n",
       "3            0    20040609  164813000.0             2       0.02074      USD   \n",
       "4            1    20040609  140800000.0             2       0.02074      USD   \n",
       "\n",
       "   libor_rate        bought  creation_date  indicator_code  sell_date  type  \\\n",
       "0    2.332216  1.098097e+08       20040720            -999   20040812     1   \n",
       "1    5.269617  1.760084e+08       20040723            -999   20040812     2   \n",
       "2    2.332216  5.637953e+07       20040723            -999   20040817     0   \n",
       "3    2.332216  1.645088e+08       20040723            -999   20040713     0   \n",
       "4    2.332216  1.405402e+08       20040723            -999   20040713     1   \n",
       "\n",
       "   hedge_value  status   return  \n",
       "0            0       0  0.02496  \n",
       "1            0       0  0.05496  \n",
       "2            0       0  0.02496  \n",
       "3            0       0  0.02496  \n",
       "4            0       0  0.02496  "
      ]
     },
     "execution_count": 20,
     "metadata": {},
     "output_type": "execute_result"
    }
   ],
   "source": [
    "train.head()"
   ]
  },
  {
   "cell_type": "markdown",
   "metadata": {},
   "source": [
    "### 1.3 Taking Care of Date_Time Objects"
   ]
  },
  {
   "cell_type": "code",
   "execution_count": 21,
   "metadata": {},
   "outputs": [],
   "source": [
    "train.start_date=pd.to_datetime(train.start_date,format='%Y%m%d', errors='ignore')\n",
    "test.start_date=pd.to_datetime(test.start_date,format='%Y%m%d', errors='ignore')"
   ]
  },
  {
   "cell_type": "code",
   "execution_count": 22,
   "metadata": {},
   "outputs": [],
   "source": [
    "train.creation_date=pd.to_datetime(train.creation_date,format='%Y%m%d', errors='ignore')\n",
    "test.creation_date=pd.to_datetime(test.creation_date,format='%Y%m%d', errors='ignore')"
   ]
  },
  {
   "cell_type": "code",
   "execution_count": 23,
   "metadata": {},
   "outputs": [],
   "source": [
    "test.sell_date=pd.to_datetime(test.sell_date,format='%Y%m%d', errors='ignore')\n",
    "train.sell_date=pd.to_datetime(train.sell_date,format='%Y%m%d', errors='ignore')"
   ]
  },
  {
   "cell_type": "code",
   "execution_count": 24,
   "metadata": {},
   "outputs": [
    {
     "data": {
      "text/html": [
       "<div>\n",
       "<style>\n",
       "    .dataframe thead tr:only-child th {\n",
       "        text-align: right;\n",
       "    }\n",
       "\n",
       "    .dataframe thead th {\n",
       "        text-align: left;\n",
       "    }\n",
       "\n",
       "    .dataframe tbody tr th {\n",
       "        vertical-align: top;\n",
       "    }\n",
       "</style>\n",
       "<table border=\"1\" class=\"dataframe\">\n",
       "  <thead>\n",
       "    <tr style=\"text-align: right;\">\n",
       "      <th></th>\n",
       "      <th>pf_category</th>\n",
       "      <th>start_date</th>\n",
       "      <th>sold</th>\n",
       "      <th>country_code</th>\n",
       "      <th>euribor_rate</th>\n",
       "      <th>currency</th>\n",
       "      <th>libor_rate</th>\n",
       "      <th>bought</th>\n",
       "      <th>creation_date</th>\n",
       "      <th>indicator_code</th>\n",
       "      <th>sell_date</th>\n",
       "      <th>type</th>\n",
       "      <th>hedge_value</th>\n",
       "      <th>status</th>\n",
       "      <th>return</th>\n",
       "    </tr>\n",
       "  </thead>\n",
       "  <tbody>\n",
       "    <tr>\n",
       "      <th>0</th>\n",
       "      <td>1</td>\n",
       "      <td>2004-07-20</td>\n",
       "      <td>110000000.0</td>\n",
       "      <td>2</td>\n",
       "      <td>0.02074</td>\n",
       "      <td>USD</td>\n",
       "      <td>2.332216</td>\n",
       "      <td>1.098097e+08</td>\n",
       "      <td>2004-07-20</td>\n",
       "      <td>-999</td>\n",
       "      <td>2004-08-12</td>\n",
       "      <td>1</td>\n",
       "      <td>0</td>\n",
       "      <td>0</td>\n",
       "      <td>0.02496</td>\n",
       "    </tr>\n",
       "    <tr>\n",
       "      <th>1</th>\n",
       "      <td>0</td>\n",
       "      <td>2004-07-09</td>\n",
       "      <td>176671000.0</td>\n",
       "      <td>1</td>\n",
       "      <td>0.02074</td>\n",
       "      <td>GBP</td>\n",
       "      <td>5.269617</td>\n",
       "      <td>1.760084e+08</td>\n",
       "      <td>2004-07-23</td>\n",
       "      <td>-999</td>\n",
       "      <td>2004-08-12</td>\n",
       "      <td>2</td>\n",
       "      <td>0</td>\n",
       "      <td>0</td>\n",
       "      <td>0.05496</td>\n",
       "    </tr>\n",
       "  </tbody>\n",
       "</table>\n",
       "</div>"
      ],
      "text/plain": [
       "   pf_category start_date         sold  country_code  euribor_rate currency  \\\n",
       "0            1 2004-07-20  110000000.0             2       0.02074      USD   \n",
       "1            0 2004-07-09  176671000.0             1       0.02074      GBP   \n",
       "\n",
       "   libor_rate        bought creation_date  indicator_code  sell_date  type  \\\n",
       "0    2.332216  1.098097e+08    2004-07-20            -999 2004-08-12     1   \n",
       "1    5.269617  1.760084e+08    2004-07-23            -999 2004-08-12     2   \n",
       "\n",
       "   hedge_value  status   return  \n",
       "0            0       0  0.02496  \n",
       "1            0       0  0.05496  "
      ]
     },
     "execution_count": 24,
     "metadata": {},
     "output_type": "execute_result"
    }
   ],
   "source": [
    "train.head(2)"
   ]
  },
  {
   "cell_type": "code",
   "execution_count": 25,
   "metadata": {},
   "outputs": [
    {
     "data": {
      "text/plain": [
       "pf_category                int64\n",
       "start_date        datetime64[ns]\n",
       "sold                     float64\n",
       "country_code               int64\n",
       "euribor_rate             float64\n",
       "currency                  object\n",
       "libor_rate               float64\n",
       "bought                   float64\n",
       "creation_date     datetime64[ns]\n",
       "indicator_code             int64\n",
       "sell_date         datetime64[ns]\n",
       "type                       int64\n",
       "hedge_value                int64\n",
       "status                     int64\n",
       "return                   float64\n",
       "dtype: object"
      ]
     },
     "execution_count": 25,
     "metadata": {},
     "output_type": "execute_result"
    }
   ],
   "source": [
    "train.dtypes"
   ]
  },
  {
   "cell_type": "code",
   "execution_count": 89,
   "metadata": {},
   "outputs": [
    {
     "data": {
      "text/plain": [
       "pf_category                int64\n",
       "start_date        datetime64[ns]\n",
       "sold                     float64\n",
       "country_code               int64\n",
       "euribor_rate             float64\n",
       "currency                  object\n",
       "libor_rate               float64\n",
       "bought                   float64\n",
       "creation_date     datetime64[ns]\n",
       "indicator_code             int64\n",
       "sell_date         datetime64[ns]\n",
       "type                       int64\n",
       "hedge_value                int64\n",
       "status                     int64\n",
       "return                   float64\n",
       "dtype: object"
      ]
     },
     "execution_count": 89,
     "metadata": {},
     "output_type": "execute_result"
    }
   ],
   "source": [
    "train.dtypes"
   ]
  },
  {
   "cell_type": "markdown",
   "metadata": {},
   "source": [
    "## 2. Feature Engineering"
   ]
  },
  {
   "cell_type": "code",
   "execution_count": 90,
   "metadata": {},
   "outputs": [
    {
     "data": {
      "text/html": [
       "<div>\n",
       "<style>\n",
       "    .dataframe thead tr:only-child th {\n",
       "        text-align: right;\n",
       "    }\n",
       "\n",
       "    .dataframe thead th {\n",
       "        text-align: left;\n",
       "    }\n",
       "\n",
       "    .dataframe tbody tr th {\n",
       "        vertical-align: top;\n",
       "    }\n",
       "</style>\n",
       "<table border=\"1\" class=\"dataframe\">\n",
       "  <thead>\n",
       "    <tr style=\"text-align: right;\">\n",
       "      <th></th>\n",
       "      <th>pf_category</th>\n",
       "      <th>start_date</th>\n",
       "      <th>sold</th>\n",
       "      <th>country_code</th>\n",
       "      <th>euribor_rate</th>\n",
       "      <th>currency</th>\n",
       "      <th>libor_rate</th>\n",
       "      <th>bought</th>\n",
       "      <th>creation_date</th>\n",
       "      <th>indicator_code</th>\n",
       "      <th>sell_date</th>\n",
       "      <th>type</th>\n",
       "      <th>hedge_value</th>\n",
       "      <th>status</th>\n",
       "      <th>return</th>\n",
       "    </tr>\n",
       "  </thead>\n",
       "  <tbody>\n",
       "    <tr>\n",
       "      <th>0</th>\n",
       "      <td>1</td>\n",
       "      <td>2004-07-20</td>\n",
       "      <td>110000000.0</td>\n",
       "      <td>2</td>\n",
       "      <td>0.02074</td>\n",
       "      <td>USD</td>\n",
       "      <td>2.332216</td>\n",
       "      <td>1.098097e+08</td>\n",
       "      <td>2004-07-20</td>\n",
       "      <td>-999</td>\n",
       "      <td>2004-08-12</td>\n",
       "      <td>1</td>\n",
       "      <td>0</td>\n",
       "      <td>0</td>\n",
       "      <td>0.02496</td>\n",
       "    </tr>\n",
       "    <tr>\n",
       "      <th>1</th>\n",
       "      <td>0</td>\n",
       "      <td>2004-07-09</td>\n",
       "      <td>176671000.0</td>\n",
       "      <td>1</td>\n",
       "      <td>0.02074</td>\n",
       "      <td>GBP</td>\n",
       "      <td>5.269617</td>\n",
       "      <td>1.760084e+08</td>\n",
       "      <td>2004-07-23</td>\n",
       "      <td>-999</td>\n",
       "      <td>2004-08-12</td>\n",
       "      <td>2</td>\n",
       "      <td>0</td>\n",
       "      <td>0</td>\n",
       "      <td>0.05496</td>\n",
       "    </tr>\n",
       "    <tr>\n",
       "      <th>2</th>\n",
       "      <td>0</td>\n",
       "      <td>2004-07-23</td>\n",
       "      <td>56474000.0</td>\n",
       "      <td>2</td>\n",
       "      <td>0.02074</td>\n",
       "      <td>USD</td>\n",
       "      <td>2.332216</td>\n",
       "      <td>5.637953e+07</td>\n",
       "      <td>2004-07-23</td>\n",
       "      <td>-999</td>\n",
       "      <td>2004-08-17</td>\n",
       "      <td>0</td>\n",
       "      <td>0</td>\n",
       "      <td>0</td>\n",
       "      <td>0.02496</td>\n",
       "    </tr>\n",
       "    <tr>\n",
       "      <th>3</th>\n",
       "      <td>0</td>\n",
       "      <td>2004-06-09</td>\n",
       "      <td>164813000.0</td>\n",
       "      <td>2</td>\n",
       "      <td>0.02074</td>\n",
       "      <td>USD</td>\n",
       "      <td>2.332216</td>\n",
       "      <td>1.645088e+08</td>\n",
       "      <td>2004-07-23</td>\n",
       "      <td>-999</td>\n",
       "      <td>2004-07-13</td>\n",
       "      <td>0</td>\n",
       "      <td>0</td>\n",
       "      <td>0</td>\n",
       "      <td>0.02496</td>\n",
       "    </tr>\n",
       "    <tr>\n",
       "      <th>4</th>\n",
       "      <td>1</td>\n",
       "      <td>2004-06-09</td>\n",
       "      <td>140800000.0</td>\n",
       "      <td>2</td>\n",
       "      <td>0.02074</td>\n",
       "      <td>USD</td>\n",
       "      <td>2.332216</td>\n",
       "      <td>1.405402e+08</td>\n",
       "      <td>2004-07-23</td>\n",
       "      <td>-999</td>\n",
       "      <td>2004-07-13</td>\n",
       "      <td>1</td>\n",
       "      <td>0</td>\n",
       "      <td>0</td>\n",
       "      <td>0.02496</td>\n",
       "    </tr>\n",
       "  </tbody>\n",
       "</table>\n",
       "</div>"
      ],
      "text/plain": [
       "   pf_category start_date         sold  country_code  euribor_rate currency  \\\n",
       "0            1 2004-07-20  110000000.0             2       0.02074      USD   \n",
       "1            0 2004-07-09  176671000.0             1       0.02074      GBP   \n",
       "2            0 2004-07-23   56474000.0             2       0.02074      USD   \n",
       "3            0 2004-06-09  164813000.0             2       0.02074      USD   \n",
       "4            1 2004-06-09  140800000.0             2       0.02074      USD   \n",
       "\n",
       "   libor_rate        bought creation_date  indicator_code  sell_date  type  \\\n",
       "0    2.332216  1.098097e+08    2004-07-20            -999 2004-08-12     1   \n",
       "1    5.269617  1.760084e+08    2004-07-23            -999 2004-08-12     2   \n",
       "2    2.332216  5.637953e+07    2004-07-23            -999 2004-08-17     0   \n",
       "3    2.332216  1.645088e+08    2004-07-23            -999 2004-07-13     0   \n",
       "4    2.332216  1.405402e+08    2004-07-23            -999 2004-07-13     1   \n",
       "\n",
       "   hedge_value  status   return  \n",
       "0            0       0  0.02496  \n",
       "1            0       0  0.05496  \n",
       "2            0       0  0.02496  \n",
       "3            0       0  0.02496  \n",
       "4            0       0  0.02496  "
      ]
     },
     "execution_count": 90,
     "metadata": {},
     "output_type": "execute_result"
    }
   ],
   "source": [
    "train.head()"
   ]
  },
  {
   "cell_type": "markdown",
   "metadata": {},
   "source": [
    "### 2.1 Converting All Currencies into Same Scale(in US Dollar)"
   ]
  },
  {
   "cell_type": "code",
   "execution_count": 26,
   "metadata": {},
   "outputs": [],
   "source": [
    "def Currency_Converter(data):\n",
    "    cur=data[0]\n",
    "    x=data[1]\n",
    "    if cur==\"USD\":\n",
    "        return(x)\n",
    "    elif cur==\"GBP\":\n",
    "        return(x*1.3)\n",
    "    elif cur==\"EUR\":\n",
    "        return (x*1.2)\n",
    "    elif cur==\"CHF\":\n",
    "        return(x)\n",
    "    elif cur==\"JPY\":\n",
    "        return(x*0.008)"
   ]
  },
  {
   "cell_type": "markdown",
   "metadata": {},
   "source": [
    "#### Sold"
   ]
  },
  {
   "cell_type": "code",
   "execution_count": 27,
   "metadata": {},
   "outputs": [],
   "source": [
    "train.sold=train[[\"currency\",\"sold\"]].apply(Currency_Converter,axis=1)\n",
    "test.sold=test[[\"currency\",\"sold\"]].apply(Currency_Converter,axis=1)"
   ]
  },
  {
   "cell_type": "markdown",
   "metadata": {},
   "source": [
    "#### Bought"
   ]
  },
  {
   "cell_type": "code",
   "execution_count": 28,
   "metadata": {},
   "outputs": [],
   "source": [
    "train.bought=train[[\"currency\",\"bought\"]].apply(Currency_Converter,axis=1)\n",
    "test.bought=test[[\"currency\",\"bought\"]].apply(Currency_Converter,axis=1)"
   ]
  },
  {
   "cell_type": "markdown",
   "metadata": {},
   "source": [
    "#### Euribor Rate"
   ]
  },
  {
   "cell_type": "code",
   "execution_count": 29,
   "metadata": {},
   "outputs": [],
   "source": [
    "train.euribor_rate=train[[\"currency\",\"euribor_rate\"]].apply(Currency_Converter,axis=1)\n",
    "test.euribor_rate=test[[\"currency\",\"euribor_rate\"]].apply(Currency_Converter,axis=1)"
   ]
  },
  {
   "cell_type": "markdown",
   "metadata": {},
   "source": [
    "#### Libor_Rate"
   ]
  },
  {
   "cell_type": "code",
   "execution_count": 30,
   "metadata": {},
   "outputs": [],
   "source": [
    "train.libor_rate=train[[\"currency\",\"libor_rate\"]].apply(Currency_Converter,axis=1)\n",
    "test.libor_rate=test[[\"currency\",\"libor_rate\"]].apply(Currency_Converter,axis=1)"
   ]
  },
  {
   "cell_type": "code",
   "execution_count": 31,
   "metadata": {},
   "outputs": [
    {
     "data": {
      "text/html": [
       "<div>\n",
       "<style>\n",
       "    .dataframe thead tr:only-child th {\n",
       "        text-align: right;\n",
       "    }\n",
       "\n",
       "    .dataframe thead th {\n",
       "        text-align: left;\n",
       "    }\n",
       "\n",
       "    .dataframe tbody tr th {\n",
       "        vertical-align: top;\n",
       "    }\n",
       "</style>\n",
       "<table border=\"1\" class=\"dataframe\">\n",
       "  <thead>\n",
       "    <tr style=\"text-align: right;\">\n",
       "      <th></th>\n",
       "      <th>pf_category</th>\n",
       "      <th>start_date</th>\n",
       "      <th>sold</th>\n",
       "      <th>country_code</th>\n",
       "      <th>euribor_rate</th>\n",
       "      <th>currency</th>\n",
       "      <th>libor_rate</th>\n",
       "      <th>bought</th>\n",
       "      <th>creation_date</th>\n",
       "      <th>indicator_code</th>\n",
       "      <th>sell_date</th>\n",
       "      <th>type</th>\n",
       "      <th>hedge_value</th>\n",
       "      <th>status</th>\n",
       "      <th>return</th>\n",
       "    </tr>\n",
       "  </thead>\n",
       "  <tbody>\n",
       "    <tr>\n",
       "      <th>0</th>\n",
       "      <td>1</td>\n",
       "      <td>2004-07-20</td>\n",
       "      <td>110000000.0</td>\n",
       "      <td>2</td>\n",
       "      <td>0.020740</td>\n",
       "      <td>USD</td>\n",
       "      <td>2.332216</td>\n",
       "      <td>1.098097e+08</td>\n",
       "      <td>2004-07-20</td>\n",
       "      <td>-999</td>\n",
       "      <td>2004-08-12</td>\n",
       "      <td>1</td>\n",
       "      <td>0</td>\n",
       "      <td>0</td>\n",
       "      <td>0.02496</td>\n",
       "    </tr>\n",
       "    <tr>\n",
       "      <th>1</th>\n",
       "      <td>0</td>\n",
       "      <td>2004-07-09</td>\n",
       "      <td>229672300.0</td>\n",
       "      <td>1</td>\n",
       "      <td>0.026962</td>\n",
       "      <td>GBP</td>\n",
       "      <td>6.850502</td>\n",
       "      <td>2.288110e+08</td>\n",
       "      <td>2004-07-23</td>\n",
       "      <td>-999</td>\n",
       "      <td>2004-08-12</td>\n",
       "      <td>2</td>\n",
       "      <td>0</td>\n",
       "      <td>0</td>\n",
       "      <td>0.05496</td>\n",
       "    </tr>\n",
       "    <tr>\n",
       "      <th>2</th>\n",
       "      <td>0</td>\n",
       "      <td>2004-07-23</td>\n",
       "      <td>56474000.0</td>\n",
       "      <td>2</td>\n",
       "      <td>0.020740</td>\n",
       "      <td>USD</td>\n",
       "      <td>2.332216</td>\n",
       "      <td>5.637953e+07</td>\n",
       "      <td>2004-07-23</td>\n",
       "      <td>-999</td>\n",
       "      <td>2004-08-17</td>\n",
       "      <td>0</td>\n",
       "      <td>0</td>\n",
       "      <td>0</td>\n",
       "      <td>0.02496</td>\n",
       "    </tr>\n",
       "    <tr>\n",
       "      <th>3</th>\n",
       "      <td>0</td>\n",
       "      <td>2004-06-09</td>\n",
       "      <td>164813000.0</td>\n",
       "      <td>2</td>\n",
       "      <td>0.020740</td>\n",
       "      <td>USD</td>\n",
       "      <td>2.332216</td>\n",
       "      <td>1.645088e+08</td>\n",
       "      <td>2004-07-23</td>\n",
       "      <td>-999</td>\n",
       "      <td>2004-07-13</td>\n",
       "      <td>0</td>\n",
       "      <td>0</td>\n",
       "      <td>0</td>\n",
       "      <td>0.02496</td>\n",
       "    </tr>\n",
       "    <tr>\n",
       "      <th>4</th>\n",
       "      <td>1</td>\n",
       "      <td>2004-06-09</td>\n",
       "      <td>140800000.0</td>\n",
       "      <td>2</td>\n",
       "      <td>0.020740</td>\n",
       "      <td>USD</td>\n",
       "      <td>2.332216</td>\n",
       "      <td>1.405402e+08</td>\n",
       "      <td>2004-07-23</td>\n",
       "      <td>-999</td>\n",
       "      <td>2004-07-13</td>\n",
       "      <td>1</td>\n",
       "      <td>0</td>\n",
       "      <td>0</td>\n",
       "      <td>0.02496</td>\n",
       "    </tr>\n",
       "  </tbody>\n",
       "</table>\n",
       "</div>"
      ],
      "text/plain": [
       "   pf_category start_date         sold  country_code  euribor_rate currency  \\\n",
       "0            1 2004-07-20  110000000.0             2      0.020740      USD   \n",
       "1            0 2004-07-09  229672300.0             1      0.026962      GBP   \n",
       "2            0 2004-07-23   56474000.0             2      0.020740      USD   \n",
       "3            0 2004-06-09  164813000.0             2      0.020740      USD   \n",
       "4            1 2004-06-09  140800000.0             2      0.020740      USD   \n",
       "\n",
       "   libor_rate        bought creation_date  indicator_code  sell_date  type  \\\n",
       "0    2.332216  1.098097e+08    2004-07-20            -999 2004-08-12     1   \n",
       "1    6.850502  2.288110e+08    2004-07-23            -999 2004-08-12     2   \n",
       "2    2.332216  5.637953e+07    2004-07-23            -999 2004-08-17     0   \n",
       "3    2.332216  1.645088e+08    2004-07-23            -999 2004-07-13     0   \n",
       "4    2.332216  1.405402e+08    2004-07-23            -999 2004-07-13     1   \n",
       "\n",
       "   hedge_value  status   return  \n",
       "0            0       0  0.02496  \n",
       "1            0       0  0.05496  \n",
       "2            0       0  0.02496  \n",
       "3            0       0  0.02496  \n",
       "4            0       0  0.02496  "
      ]
     },
     "execution_count": 31,
     "metadata": {},
     "output_type": "execute_result"
    }
   ],
   "source": [
    "train.head()"
   ]
  },
  {
   "cell_type": "markdown",
   "metadata": {},
   "source": [
    "### 2.2 Taking Care of Currency Column"
   ]
  },
  {
   "cell_type": "markdown",
   "metadata": {},
   "source": [
    "Here, Only \"USD\" currency will have value 1 and other currencies will have 0 values "
   ]
  },
  {
   "cell_type": "code",
   "execution_count": 32,
   "metadata": {},
   "outputs": [],
   "source": [
    "def cur(data):\n",
    "    if data==\"USD\":\n",
    "        return(1)\n",
    "    else:\n",
    "        return(0)\n"
   ]
  },
  {
   "cell_type": "code",
   "execution_count": 33,
   "metadata": {},
   "outputs": [],
   "source": [
    "train.currency=train.currency.apply(lambda x: cur(x))\n",
    "test.currency=test.currency.apply(lambda x: cur(x))"
   ]
  },
  {
   "cell_type": "markdown",
   "metadata": {},
   "source": [
    "### 2.3 Taking Care of Outliers Present in Bought and Sold Column"
   ]
  },
  {
   "cell_type": "markdown",
   "metadata": {},
   "source": [
    "### Sold"
   ]
  },
  {
   "cell_type": "code",
   "execution_count": 35,
   "metadata": {},
   "outputs": [
    {
     "data": {
      "text/plain": [
       "<matplotlib.axes._subplots.AxesSubplot at 0x7fc1d0ba48d0>"
      ]
     },
     "execution_count": 35,
     "metadata": {},
     "output_type": "execute_result"
    },
    {
     "data": {
      "image/png": "[encoded data removed]",
      "text/plain": [
       "<matplotlib.figure.Figure at 0x7fc1d0b3a0f0>"
      ]
     },
     "metadata": {},
     "output_type": "display_data"
    }
   ],
   "source": [
    "sns.boxplot(data=train.sold)"
   ]
  },
  {
   "cell_type": "code",
   "execution_count": 36,
   "metadata": {},
   "outputs": [],
   "source": [
    "from scipy.stats.mstats import winsorize "
   ]
  },
  {
   "cell_type": "code",
   "execution_count": 37,
   "metadata": {},
   "outputs": [
    {
     "data": {
      "text/plain": [
       "<matplotlib.axes._subplots.AxesSubplot at 0x7fc1d0ce1ac8>"
      ]
     },
     "execution_count": 37,
     "metadata": {},
     "output_type": "execute_result"
    },
    {
     "data": {
      "image/png": "[encoded data removed]",
      "text/plain": [
       "<matplotlib.figure.Figure at 0x7fc1d1436d30>"
      ]
     },
     "metadata": {},
     "output_type": "display_data"
    }
   ],
   "source": [
    "sns.boxplot(data=(winsorize(a=train.sold,limits=0.1)))"
   ]
  },
  {
   "cell_type": "code",
   "execution_count": 38,
   "metadata": {},
   "outputs": [
    {
     "data": {
      "text/plain": [
       "<matplotlib.axes._subplots.AxesSubplot at 0x7fc1d0c5a358>"
      ]
     },
     "execution_count": 38,
     "metadata": {},
     "output_type": "execute_result"
    },
    {
     "data": {
      "image/png": "[encoded data removed]",
      "text/plain": [
       "<matplotlib.figure.Figure at 0x7fc1d0b3a080>"
      ]
     },
     "metadata": {},
     "output_type": "display_data"
    }
   ],
   "source": [
    "sns.boxplot(data=(winsorize(a=test.sold,limits=0.1)))"
   ]
  },
  {
   "cell_type": "markdown",
   "metadata": {},
   "source": [
    "So, 10% clipping is working fine for both Train and Test data "
   ]
  },
  {
   "cell_type": "code",
   "execution_count": 39,
   "metadata": {},
   "outputs": [
    {
     "data": {
      "text/plain": [
       "masked_array(data = [  1.10000000e+08   2.24488000e+08   5.64740000e+07 ...,   1.10000000e+08\n",
       "   3.30000000e+07   8.95620000e+07],\n",
       "             mask = False,\n",
       "       fill_value = 1e+20)"
      ]
     },
     "execution_count": 39,
     "metadata": {},
     "output_type": "execute_result"
    }
   ],
   "source": [
    "winsorize(a=train.sold,limits=0.1,inplace=True)"
   ]
  },
  {
   "cell_type": "code",
   "execution_count": 40,
   "metadata": {},
   "outputs": [
    {
     "data": {
      "text/plain": [
       "masked_array(data = [  1.71831000e+08   5.64850000e+07   4.17340000e+07 ...,   3.73516000e+07\n",
       "   3.44190000e+07   5.37130000e+07],\n",
       "             mask = False,\n",
       "       fill_value = 1e+20)"
      ]
     },
     "execution_count": 40,
     "metadata": {},
     "output_type": "execute_result"
    }
   ],
   "source": [
    "winsorize(a=test.sold,limits=0.1,inplace=True)"
   ]
  },
  {
   "cell_type": "markdown",
   "metadata": {},
   "source": [
    "### Bought"
   ]
  },
  {
   "cell_type": "code",
   "execution_count": 41,
   "metadata": {},
   "outputs": [
    {
     "data": {
      "text/plain": [
       "<matplotlib.axes._subplots.AxesSubplot at 0x7fc1d0c9a400>"
      ]
     },
     "execution_count": 41,
     "metadata": {},
     "output_type": "execute_result"
    },
    {
     "data": {
      "image/png": "[encoded data removed]",
      "text/plain": [
       "<matplotlib.figure.Figure at 0x7fc1d0b3ae48>"
      ]
     },
     "metadata": {},
     "output_type": "display_data"
    }
   ],
   "source": [
    "sns.boxplot(data=train.bought)"
   ]
  },
  {
   "cell_type": "code",
   "execution_count": 42,
   "metadata": {},
   "outputs": [
    {
     "data": {
      "text/plain": [
       "<matplotlib.axes._subplots.AxesSubplot at 0x7fc1c928f358>"
      ]
     },
     "execution_count": 42,
     "metadata": {},
     "output_type": "execute_result"
    },
    {
     "data": {
      "image/png": "[encoded data removed]",
      "text/plain": [
       "<matplotlib.figure.Figure at 0x7fc1d0c014e0>"
      ]
     },
     "metadata": {},
     "output_type": "display_data"
    }
   ],
   "source": [
    "sns.boxplot(data=(winsorize(a=test.bought,limits=0.1)))"
   ]
  },
  {
   "cell_type": "code",
   "execution_count": 43,
   "metadata": {},
   "outputs": [
    {
     "data": {
      "text/plain": [
       "<matplotlib.axes._subplots.AxesSubplot at 0x7fc1c9271978>"
      ]
     },
     "execution_count": 43,
     "metadata": {},
     "output_type": "execute_result"
    },
    {
     "data": {
      "image/png": "[encoded data removed]",
      "text/plain": [
       "<matplotlib.figure.Figure at 0x7fc1c922eeb8>"
      ]
     },
     "metadata": {},
     "output_type": "display_data"
    }
   ],
   "source": [
    "sns.boxplot(data=(winsorize(a=train.bought,limits=0.1)))"
   ]
  },
  {
   "cell_type": "markdown",
   "metadata": {},
   "source": [
    "So, here also 10% clipping is working fine for both Train and Test data "
   ]
  },
  {
   "cell_type": "code",
   "execution_count": 44,
   "metadata": {},
   "outputs": [
    {
     "data": {
      "text/plain": [
       "masked_array(data = [  1.71533675e+08   5.63803831e+07   4.16617862e+07 ...,   3.73480903e+07\n",
       "   3.44159883e+07   5.37077779e+07],\n",
       "             mask = False,\n",
       "       fill_value = 1e+20)"
      ]
     },
     "execution_count": 44,
     "metadata": {},
     "output_type": "execute_result"
    }
   ],
   "source": [
    "winsorize(a=test.bought,limits=0.1,inplace=True)"
   ]
  },
  {
   "cell_type": "code",
   "execution_count": 45,
   "metadata": {},
   "outputs": [
    {
     "data": {
      "text/plain": [
       "masked_array(data = [  1.09809663e+08   2.23933335e+08   5.63795330e+07 ...,   1.09989306e+08\n",
       "   3.29967917e+07   8.95532926e+07],\n",
       "             mask = False,\n",
       "       fill_value = 1e+20)"
      ]
     },
     "execution_count": 45,
     "metadata": {},
     "output_type": "execute_result"
    }
   ],
   "source": [
    "winsorize(a=train.bought,limits=0.1,inplace=True)"
   ]
  },
  {
   "cell_type": "code",
   "execution_count": 112,
   "metadata": {},
   "outputs": [
    {
     "data": {
      "text/html": [
       "<div>\n",
       "<style>\n",
       "    .dataframe thead tr:only-child th {\n",
       "        text-align: right;\n",
       "    }\n",
       "\n",
       "    .dataframe thead th {\n",
       "        text-align: left;\n",
       "    }\n",
       "\n",
       "    .dataframe tbody tr th {\n",
       "        vertical-align: top;\n",
       "    }\n",
       "</style>\n",
       "<table border=\"1\" class=\"dataframe\">\n",
       "  <thead>\n",
       "    <tr style=\"text-align: right;\">\n",
       "      <th></th>\n",
       "      <th>pf_category</th>\n",
       "      <th>start_date</th>\n",
       "      <th>sold</th>\n",
       "      <th>country_code</th>\n",
       "      <th>euribor_rate</th>\n",
       "      <th>currency</th>\n",
       "      <th>libor_rate</th>\n",
       "      <th>bought</th>\n",
       "      <th>creation_date</th>\n",
       "      <th>indicator_code</th>\n",
       "      <th>sell_date</th>\n",
       "      <th>type</th>\n",
       "      <th>hedge_value</th>\n",
       "      <th>status</th>\n",
       "      <th>return</th>\n",
       "    </tr>\n",
       "  </thead>\n",
       "  <tbody>\n",
       "    <tr>\n",
       "      <th>0</th>\n",
       "      <td>1</td>\n",
       "      <td>2004-07-20</td>\n",
       "      <td>110000000.0</td>\n",
       "      <td>2</td>\n",
       "      <td>0.020740</td>\n",
       "      <td>1</td>\n",
       "      <td>2.332216</td>\n",
       "      <td>1.098097e+08</td>\n",
       "      <td>2004-07-20</td>\n",
       "      <td>-999</td>\n",
       "      <td>2004-08-12</td>\n",
       "      <td>1</td>\n",
       "      <td>0</td>\n",
       "      <td>0</td>\n",
       "      <td>0.02496</td>\n",
       "    </tr>\n",
       "    <tr>\n",
       "      <th>1</th>\n",
       "      <td>0</td>\n",
       "      <td>2004-07-09</td>\n",
       "      <td>132503250.0</td>\n",
       "      <td>1</td>\n",
       "      <td>0.015555</td>\n",
       "      <td>0</td>\n",
       "      <td>3.952213</td>\n",
       "      <td>1.320063e+08</td>\n",
       "      <td>2004-07-23</td>\n",
       "      <td>-999</td>\n",
       "      <td>2004-08-12</td>\n",
       "      <td>2</td>\n",
       "      <td>0</td>\n",
       "      <td>0</td>\n",
       "      <td>0.05496</td>\n",
       "    </tr>\n",
       "    <tr>\n",
       "      <th>2</th>\n",
       "      <td>0</td>\n",
       "      <td>2004-07-23</td>\n",
       "      <td>56474000.0</td>\n",
       "      <td>2</td>\n",
       "      <td>0.020740</td>\n",
       "      <td>1</td>\n",
       "      <td>2.332216</td>\n",
       "      <td>5.637953e+07</td>\n",
       "      <td>2004-07-23</td>\n",
       "      <td>-999</td>\n",
       "      <td>2004-08-17</td>\n",
       "      <td>0</td>\n",
       "      <td>0</td>\n",
       "      <td>0</td>\n",
       "      <td>0.02496</td>\n",
       "    </tr>\n",
       "    <tr>\n",
       "      <th>3</th>\n",
       "      <td>0</td>\n",
       "      <td>2004-06-09</td>\n",
       "      <td>164813000.0</td>\n",
       "      <td>2</td>\n",
       "      <td>0.020740</td>\n",
       "      <td>1</td>\n",
       "      <td>2.332216</td>\n",
       "      <td>1.645088e+08</td>\n",
       "      <td>2004-07-23</td>\n",
       "      <td>-999</td>\n",
       "      <td>2004-07-13</td>\n",
       "      <td>0</td>\n",
       "      <td>0</td>\n",
       "      <td>0</td>\n",
       "      <td>0.02496</td>\n",
       "    </tr>\n",
       "    <tr>\n",
       "      <th>4</th>\n",
       "      <td>1</td>\n",
       "      <td>2004-06-09</td>\n",
       "      <td>140800000.0</td>\n",
       "      <td>2</td>\n",
       "      <td>0.020740</td>\n",
       "      <td>1</td>\n",
       "      <td>2.332216</td>\n",
       "      <td>1.405402e+08</td>\n",
       "      <td>2004-07-23</td>\n",
       "      <td>-999</td>\n",
       "      <td>2004-07-13</td>\n",
       "      <td>1</td>\n",
       "      <td>0</td>\n",
       "      <td>0</td>\n",
       "      <td>0.02496</td>\n",
       "    </tr>\n",
       "  </tbody>\n",
       "</table>\n",
       "</div>"
      ],
      "text/plain": [
       "   pf_category start_date         sold  country_code  euribor_rate  currency  \\\n",
       "0            1 2004-07-20  110000000.0             2      0.020740         1   \n",
       "1            0 2004-07-09  132503250.0             1      0.015555         0   \n",
       "2            0 2004-07-23   56474000.0             2      0.020740         1   \n",
       "3            0 2004-06-09  164813000.0             2      0.020740         1   \n",
       "4            1 2004-06-09  140800000.0             2      0.020740         1   \n",
       "\n",
       "   libor_rate        bought creation_date  indicator_code  sell_date  type  \\\n",
       "0    2.332216  1.098097e+08    2004-07-20            -999 2004-08-12     1   \n",
       "1    3.952213  1.320063e+08    2004-07-23            -999 2004-08-12     2   \n",
       "2    2.332216  5.637953e+07    2004-07-23            -999 2004-08-17     0   \n",
       "3    2.332216  1.645088e+08    2004-07-23            -999 2004-07-13     0   \n",
       "4    2.332216  1.405402e+08    2004-07-23            -999 2004-07-13     1   \n",
       "\n",
       "   hedge_value  status   return  \n",
       "0            0       0  0.02496  \n",
       "1            0       0  0.05496  \n",
       "2            0       0  0.02496  \n",
       "3            0       0  0.02496  \n",
       "4            0       0  0.02496  "
      ]
     },
     "execution_count": 112,
     "metadata": {},
     "output_type": "execute_result"
    }
   ],
   "source": [
    "train.head()"
   ]
  },
  {
   "cell_type": "markdown",
   "metadata": {},
   "source": [
    "## 2.4 New Feature Generation"
   ]
  },
  {
   "cell_type": "markdown",
   "metadata": {},
   "source": [
    "Now, we will try to generate new features from our Datetime objects.\n"
   ]
  },
  {
   "cell_type": "markdown",
   "metadata": {},
   "source": [
    "### 2.4.1 Start Day"
   ]
  },
  {
   "cell_type": "markdown",
   "metadata": {},
   "source": [
    "This feature actually contains the days difference between Creation Date and Start Date.\n",
    "* and it is calculated by usuing - (Difference in Years) x 365 + (Difference in Months) x30 + (Difference in Days) this formula.\n"
   ]
  },
  {
   "cell_type": "code",
   "execution_count": 46,
   "metadata": {},
   "outputs": [],
   "source": [
    "train[\"start_day\"]=(train.creation_date.dt.year-train.start_date.dt.year)*365+(train.creation_date.dt.month-train.start_date.dt.month)*30+(train.creation_date.dt.day-train.start_date.dt.day)\n",
    "test[\"start_day\"]=(test.creation_date.dt.year-test.start_date.dt.year)*365+(test.creation_date.dt.month-test.start_date.dt.month)*30+(test.creation_date.dt.day-test.start_date.dt.day)"
   ]
  },
  {
   "cell_type": "markdown",
   "metadata": {},
   "source": [
    "### 2.4.2 Sell Day"
   ]
  },
  {
   "cell_type": "markdown",
   "metadata": {},
   "source": [
    "This feature actually contains the days difference between Sell Date and Start Date.\n",
    "* and it is calculated by usuing - (Difference in Years) x 365 + (Difference in Months) x30 + (Difference in Days) this formula.\n"
   ]
  },
  {
   "cell_type": "code",
   "execution_count": 47,
   "metadata": {},
   "outputs": [],
   "source": [
    "train[\"sell_day\"]=(train.sell_date.dt.year-train.start_date.dt.year)*365+(train.sell_date.dt.month-train.start_date.dt.month)*30+(train.sell_date.dt.day-train.start_date.dt.day)\n",
    "test[\"sell_day\"]=(test.sell_date.dt.year-test.start_date.dt.year)*365+(test.sell_date.dt.month-test.start_date.dt.month)*30+(test.sell_date.dt.day-test.start_date.dt.day)"
   ]
  },
  {
   "cell_type": "markdown",
   "metadata": {},
   "source": [
    "### 2.4.3 Creation Day"
   ]
  },
  {
   "cell_type": "markdown",
   "metadata": {},
   "source": [
    "This feature actually contains the days difference between Sell Date and Creation Date.\n",
    "* and it is calculated by usuing - (Difference in Years) x 365 + (Difference in Months) x30 + (Difference in Days) this formula.\n"
   ]
  },
  {
   "cell_type": "code",
   "execution_count": 48,
   "metadata": {},
   "outputs": [],
   "source": [
    "train[\"creation_day\"]=(train.sell_date.dt.year-train.creation_date.dt.year)*365+(train.sell_date.dt.month-train.creation_date.dt.month)*30+(train.sell_date.dt.day-train.creation_date.dt.day)\n",
    "test[\"creation_day\"]=(test.sell_date.dt.year-test.creation_date.dt.year)*365+(test.sell_date.dt.month-test.creation_date.dt.month)*30+(test.sell_date.dt.day-test.creation_date.dt.day)"
   ]
  },
  {
   "cell_type": "markdown",
   "metadata": {},
   "source": [
    "## Rearranging Columns"
   ]
  },
  {
   "cell_type": "code",
   "execution_count": 49,
   "metadata": {},
   "outputs": [],
   "source": [
    "train=train[['pf_category','country_code','euribor_rate','currency',\n",
    "       'libor_rate', 'bought',\"sold\",'indicator_code','type', 'hedge_value',\"status\",'start_day','sell_day',\n",
    "       'creation_day','return', ]]"
   ]
  },
  {
   "cell_type": "code",
   "execution_count": 50,
   "metadata": {},
   "outputs": [],
   "source": [
    "test=test[['pf_category','country_code','euribor_rate','currency',\n",
    "       'libor_rate', 'bought',\"sold\",'indicator_code','type', 'hedge_value',\"status\",'start_day','sell_day',\n",
    "       'creation_day' ]]"
   ]
  },
  {
   "cell_type": "code",
   "execution_count": 51,
   "metadata": {},
   "outputs": [
    {
     "data": {
      "text/plain": [
       "(9366, 15)"
      ]
     },
     "execution_count": 51,
     "metadata": {},
     "output_type": "execute_result"
    }
   ],
   "source": [
    "train.shape"
   ]
  },
  {
   "cell_type": "code",
   "execution_count": 52,
   "metadata": {},
   "outputs": [
    {
     "data": {
      "text/plain": [
       "(4801, 14)"
      ]
     },
     "execution_count": 52,
     "metadata": {},
     "output_type": "execute_result"
    }
   ],
   "source": [
    "test.shape"
   ]
  },
  {
   "cell_type": "markdown",
   "metadata": {},
   "source": [
    "### Export to CSV files for further references. "
   ]
  },
  {
   "cell_type": "code",
   "execution_count": 53,
   "metadata": {},
   "outputs": [],
   "source": [
    "train.to_csv(\"Cleaned_Train_Data.csv\",index=False)\n",
    "test.to_csv(\"Cleaned_Test_Data.csv\",index=False)"
   ]
  },
  {
   "cell_type": "markdown",
   "metadata": {},
   "source": [
    "## 3. Modelling"
   ]
  },
  {
   "cell_type": "code",
   "execution_count": 54,
   "metadata": {},
   "outputs": [],
   "source": [
    "train=pd.read_csv(\"Cleaned_Train_Data.csv\")\n",
    "test=pd.read_csv(\"Cleaned_Test_Data.csv\")"
   ]
  },
  {
   "cell_type": "code",
   "execution_count": 55,
   "metadata": {},
   "outputs": [],
   "source": [
    "X=train.iloc[:,:-1]\n",
    "y=train['return']"
   ]
  },
  {
   "cell_type": "code",
   "execution_count": 56,
   "metadata": {},
   "outputs": [],
   "source": [
    "from sklearn.model_selection import train_test_split\n",
    "from sklearn.metrics import r2_score\n",
    "from sklearn.preprocessing import StandardScaler\n",
    "from sklearn.model_selection import cross_val_score"
   ]
  },
  {
   "cell_type": "code",
   "execution_count": 57,
   "metadata": {},
   "outputs": [],
   "source": [
    "X_train,X_test,y_train,y_test=train_test_split(X,y,test_size=0.2)"
   ]
  },
  {
   "cell_type": "code",
   "execution_count": 58,
   "metadata": {},
   "outputs": [],
   "source": [
    "sc=StandardScaler()\n",
    "X_train=sc.fit_transform(X_train)\n",
    "X_test=sc.transform(X_test)"
   ]
  },
  {
   "cell_type": "code",
   "execution_count": 59,
   "metadata": {},
   "outputs": [],
   "source": [
    "### Scoring Function\n",
    "def Score(model,X_train,y_train,X_test,y_test,train=True):\n",
    "    if train==True:\n",
    "        print(\"Training Result \\n\")\n",
    "        print(\"R Squared Value:  {0:0.4f} \\n\".format(r2_score(y_train,model.predict(X_train))))\n",
    "        scores=cross_val_score(estimator=model,X=X_train,y=y_train,cv=15,scoring='r2',n_jobs=-1)\n",
    "        print(\"Cross-Validation Score: \\n\",scores.mean())\n",
    "        print(\"Standard Deviation: \\n\",scores.std())\n",
    "    elif train==False:\n",
    "        print(\"TestResult \\n\")\n",
    "        print(\"R Squared Value:  {0:0.4f} \\n\".format(r2_score(y_test,model.predict(X_test))))\n",
    "             "
   ]
  },
  {
   "cell_type": "code",
   "execution_count": 60,
   "metadata": {},
   "outputs": [
    {
     "name": "stderr",
     "output_type": "stream",
     "text": [
      "/home/tanmoy/anaconda3/envs/tensorflow/lib/python3.6/site-packages/sklearn/cross_validation.py:41: DeprecationWarning: This module was deprecated in version 0.18 in favor of the model_selection module into which all the refactored classes and functions are moved. Also note that the interface of the new CV iterators are different from that of this module. This module will be removed in 0.20.\n",
      "  \"This module will be removed in 0.20.\", DeprecationWarning)\n"
     ]
    }
   ],
   "source": [
    "from sklearn.ensemble import RandomForestRegressor,GradientBoostingRegressor\n",
    "from xgboost import XGBRegressor"
   ]
  },
  {
   "cell_type": "code",
   "execution_count": 61,
   "metadata": {},
   "outputs": [],
   "source": [
    "model_RF=RandomForestRegressor()\n",
    "model_GBM=GradientBoostingRegressor()\n",
    "model_XGB=XGBRegressor()"
   ]
  },
  {
   "cell_type": "markdown",
   "metadata": {},
   "source": [
    "### Random Forest Model"
   ]
  },
  {
   "cell_type": "code",
   "execution_count": 62,
   "metadata": {},
   "outputs": [
    {
     "data": {
      "text/plain": [
       "RandomForestRegressor(bootstrap=True, criterion='mse', max_depth=None,\n",
       "           max_features='auto', max_leaf_nodes=None,\n",
       "           min_impurity_decrease=0.0, min_impurity_split=None,\n",
       "           min_samples_leaf=1, min_samples_split=2,\n",
       "           min_weight_fraction_leaf=0.0, n_estimators=10, n_jobs=1,\n",
       "           oob_score=False, random_state=None, verbose=0, warm_start=False)"
      ]
     },
     "execution_count": 62,
     "metadata": {},
     "output_type": "execute_result"
    }
   ],
   "source": [
    "model_RF.fit(X_train,y_train)"
   ]
  },
  {
   "cell_type": "code",
   "execution_count": 63,
   "metadata": {},
   "outputs": [
    {
     "name": "stdout",
     "output_type": "stream",
     "text": [
      "Training Result \n",
      "\n",
      "R Squared Value:  0.9296 \n",
      "\n",
      "Cross-Validation Score: \n",
      " 0.829297691804\n",
      "Standard Deviation: \n",
      " 0.274284960562\n"
     ]
    }
   ],
   "source": [
    "Score(model_RF,X_train,y_train,X_test,y_test,train=True)"
   ]
  },
  {
   "cell_type": "code",
   "execution_count": 64,
   "metadata": {},
   "outputs": [
    {
     "name": "stdout",
     "output_type": "stream",
     "text": [
      "TestResult \n",
      "\n",
      "R Squared Value:  0.9690 \n",
      "\n"
     ]
    }
   ],
   "source": [
    "Score(model_RF,X_train,y_train,X_test,y_test,train=False)"
   ]
  },
  {
   "cell_type": "markdown",
   "metadata": {},
   "source": [
    "### Hypermeter Tuning of Random Forest Model"
   ]
  },
  {
   "cell_type": "code",
   "execution_count": 65,
   "metadata": {},
   "outputs": [],
   "source": [
    "param_grid_RF= {\n",
    "              \"n_estimators\": [10,100,150],\n",
    "              \"max_depth\":[2,5,10],\n",
    "              \"min_samples_split\":[10,100,200],\n",
    "              \"min_samples_leaf\":[10,50],\n",
    "               }"
   ]
  },
  {
   "cell_type": "code",
   "execution_count": 66,
   "metadata": {},
   "outputs": [
    {
     "name": "stderr",
     "output_type": "stream",
     "text": [
      "/home/tanmoy/anaconda3/envs/tensorflow/lib/python3.6/site-packages/sklearn/grid_search.py:42: DeprecationWarning: This module was deprecated in version 0.18 in favor of the model_selection module into which all the refactored classes and functions are moved. This module will be removed in 0.20.\n",
      "  DeprecationWarning)\n"
     ]
    }
   ],
   "source": [
    "from sklearn.grid_search import GridSearchCV"
   ]
  },
  {
   "cell_type": "code",
   "execution_count": 67,
   "metadata": {},
   "outputs": [],
   "source": [
    "grid_search=GridSearchCV(estimator=model_RF,param_grid=param_grid_RF,cv=10,n_jobs=-1)"
   ]
  },
  {
   "cell_type": "code",
   "execution_count": 68,
   "metadata": {},
   "outputs": [
    {
     "data": {
      "text/plain": [
       "GridSearchCV(cv=10, error_score='raise',\n",
       "       estimator=RandomForestRegressor(bootstrap=True, criterion='mse', max_depth=None,\n",
       "           max_features='auto', max_leaf_nodes=None,\n",
       "           min_impurity_decrease=0.0, min_impurity_split=None,\n",
       "           min_samples_leaf=1, min_samples_split=2,\n",
       "           min_weight_fraction_leaf=0.0, n_estimators=10, n_jobs=1,\n",
       "           oob_score=False, random_state=None, verbose=0, warm_start=False),\n",
       "       fit_params={}, iid=True, n_jobs=-1,\n",
       "       param_grid={'n_estimators': [10, 100, 150], 'max_depth': [2, 5, 10], 'min_samples_split': [10, 100, 200], 'min_samples_leaf': [10, 50]},\n",
       "       pre_dispatch='2*n_jobs', refit=True, scoring=None, verbose=0)"
      ]
     },
     "execution_count": 68,
     "metadata": {},
     "output_type": "execute_result"
    }
   ],
   "source": [
    "grid_search.fit(X_train,y_train)"
   ]
  },
  {
   "cell_type": "code",
   "execution_count": 69,
   "metadata": {},
   "outputs": [
    {
     "data": {
      "text/plain": [
       "0.8657786924757296"
      ]
     },
     "execution_count": 69,
     "metadata": {},
     "output_type": "execute_result"
    }
   ],
   "source": [
    "grid_search.best_score_"
   ]
  },
  {
   "cell_type": "code",
   "execution_count": 70,
   "metadata": {},
   "outputs": [
    {
     "data": {
      "text/plain": [
       "{'max_depth': 10,\n",
       " 'min_samples_leaf': 10,\n",
       " 'min_samples_split': 100,\n",
       " 'n_estimators': 150}"
      ]
     },
     "execution_count": 70,
     "metadata": {},
     "output_type": "execute_result"
    }
   ],
   "source": [
    "grid_search.best_params_"
   ]
  },
  {
   "cell_type": "code",
   "execution_count": 71,
   "metadata": {},
   "outputs": [
    {
     "data": {
      "text/plain": [
       "RandomForestRegressor(bootstrap=True, criterion='mse', max_depth=10,\n",
       "           max_features='auto', max_leaf_nodes=None,\n",
       "           min_impurity_decrease=0.0, min_impurity_split=None,\n",
       "           min_samples_leaf=10, min_samples_split=100,\n",
       "           min_weight_fraction_leaf=0.0, n_estimators=150, n_jobs=1,\n",
       "           oob_score=False, random_state=None, verbose=0, warm_start=False)"
      ]
     },
     "execution_count": 71,
     "metadata": {},
     "output_type": "execute_result"
    }
   ],
   "source": [
    "grid_search.best_estimator_"
   ]
  },
  {
   "cell_type": "markdown",
   "metadata": {},
   "source": [
    "### Final Random Forest Model"
   ]
  },
  {
   "cell_type": "code",
   "execution_count": 72,
   "metadata": {},
   "outputs": [],
   "source": [
    "model_RF=RandomForestRegressor(bootstrap=True, criterion='mse', max_depth=10,\n",
    "           max_features='auto', max_leaf_nodes=None,\n",
    "           min_impurity_decrease=0.0, min_impurity_split=None,\n",
    "           min_samples_leaf=10, min_samples_split=100,\n",
    "           min_weight_fraction_leaf=0.0, n_estimators=150, n_jobs=1,\n",
    "           oob_score=False, random_state=None, verbose=0, warm_start=False)"
   ]
  },
  {
   "cell_type": "code",
   "execution_count": 73,
   "metadata": {},
   "outputs": [
    {
     "data": {
      "text/plain": [
       "RandomForestRegressor(bootstrap=True, criterion='mse', max_depth=10,\n",
       "           max_features='auto', max_leaf_nodes=None,\n",
       "           min_impurity_decrease=0.0, min_impurity_split=None,\n",
       "           min_samples_leaf=10, min_samples_split=100,\n",
       "           min_weight_fraction_leaf=0.0, n_estimators=150, n_jobs=1,\n",
       "           oob_score=False, random_state=None, verbose=0, warm_start=False)"
      ]
     },
     "execution_count": 73,
     "metadata": {},
     "output_type": "execute_result"
    }
   ],
   "source": [
    "model_RF.fit(sc.transform(X),y)"
   ]
  },
  {
   "cell_type": "code",
   "execution_count": 74,
   "metadata": {},
   "outputs": [
    {
     "name": "stdout",
     "output_type": "stream",
     "text": [
      "Training Result \n",
      "\n",
      "R Squared Value:  0.7779 \n",
      "\n",
      "Cross-Validation Score: \n",
      " 0.886331554424\n",
      "Standard Deviation: \n",
      " 0.192185760096\n"
     ]
    }
   ],
   "source": [
    "Score(model_RF,X_train,y_train,X_test,y_test,train=True)"
   ]
  },
  {
   "cell_type": "code",
   "execution_count": 75,
   "metadata": {},
   "outputs": [
    {
     "name": "stdout",
     "output_type": "stream",
     "text": [
      "TestResult \n",
      "\n",
      "R Squared Value:  0.9639 \n",
      "\n"
     ]
    }
   ],
   "source": [
    "Score(model_RF,X_train,y_train,X_test,y_test,train=False)"
   ]
  },
  {
   "cell_type": "code",
   "execution_count": 104,
   "metadata": {},
   "outputs": [
    {
     "data": {
      "text/plain": [
       "<matplotlib.text.Text at 0x7fc1c484e390>"
      ]
     },
     "execution_count": 104,
     "metadata": {},
     "output_type": "execute_result"
    },
    {
     "data": {
      "image/png": "[encoded data removed]",
      "text/plain": [
       "<matplotlib.figure.Figure at 0x7fc1c49560f0>"
      ]
     },
     "metadata": {},
     "output_type": "display_data"
    }
   ],
   "source": [
    "plt.figure(figsize=(10,10))\n",
    "features =X.columns\n",
    "importances = model_RF.feature_importances_\n",
    "indices = np.argsort(importances)\n",
    "plt.title('Feature Importances')\n",
    "plt.barh(range(len(indices)), importances[indices], color='r')\n",
    "plt.yticks(range(len(indices)), features[indices])\n",
    "plt.xlabel('Relative Importance')"
   ]
  },
  {
   "cell_type": "code",
   "execution_count": 103,
   "metadata": {},
   "outputs": [],
   "source": [
    "pred_RF=model_RF.predict(sc.transform(test))"
   ]
  },
  {
   "cell_type": "markdown",
   "metadata": {},
   "source": [
    "### GBM Model"
   ]
  },
  {
   "cell_type": "code",
   "execution_count": 77,
   "metadata": {},
   "outputs": [
    {
     "data": {
      "text/plain": [
       "GradientBoostingRegressor(alpha=0.9, criterion='friedman_mse', init=None,\n",
       "             learning_rate=0.1, loss='ls', max_depth=3, max_features=None,\n",
       "             max_leaf_nodes=None, min_impurity_decrease=0.0,\n",
       "             min_impurity_split=None, min_samples_leaf=1,\n",
       "             min_samples_split=2, min_weight_fraction_leaf=0.0,\n",
       "             n_estimators=100, presort='auto', random_state=None,\n",
       "             subsample=1.0, verbose=0, warm_start=False)"
      ]
     },
     "execution_count": 77,
     "metadata": {},
     "output_type": "execute_result"
    }
   ],
   "source": [
    "model_GBM.fit(X_train,y_train)"
   ]
  },
  {
   "cell_type": "code",
   "execution_count": 78,
   "metadata": {},
   "outputs": [
    {
     "name": "stdout",
     "output_type": "stream",
     "text": [
      "Training Result \n",
      "\n",
      "R Squared Value:  0.7965 \n",
      "\n",
      "Cross-Validation Score: \n",
      " 0.869681283379\n",
      "Standard Deviation: \n",
      " 0.195093658828\n"
     ]
    }
   ],
   "source": [
    "Score(model_GBM,X_train,y_train,X_test,y_test,train=True)"
   ]
  },
  {
   "cell_type": "code",
   "execution_count": 79,
   "metadata": {},
   "outputs": [
    {
     "name": "stdout",
     "output_type": "stream",
     "text": [
      "TestResult \n",
      "\n",
      "R Squared Value:  0.9549 \n",
      "\n"
     ]
    }
   ],
   "source": [
    "Score(model_GBM,X_train,y_train,X_test,y_test,train=False)"
   ]
  },
  {
   "cell_type": "markdown",
   "metadata": {},
   "source": [
    "### Hypermeter Tuning of GBM Model"
   ]
  },
  {
   "cell_type": "code",
   "execution_count": 81,
   "metadata": {},
   "outputs": [],
   "source": [
    "param_grid_GBM= {\n",
    "              \"n_estimators\": [10,100,150,200],\n",
    "              \"max_depth\":[2,5,10],\n",
    "              \"min_samples_split\":[10,100,200],\n",
    "              \"min_samples_leaf\":[10,50],\n",
    "               }"
   ]
  },
  {
   "cell_type": "code",
   "execution_count": 82,
   "metadata": {},
   "outputs": [],
   "source": [
    "grid_search_GBM=GridSearchCV(estimator=model_GBM,param_grid=param_grid_GBM,cv=10,n_jobs=-1)"
   ]
  },
  {
   "cell_type": "code",
   "execution_count": 83,
   "metadata": {},
   "outputs": [
    {
     "data": {
      "text/plain": [
       "GridSearchCV(cv=10, error_score='raise',\n",
       "       estimator=GradientBoostingRegressor(alpha=0.9, criterion='friedman_mse', init=None,\n",
       "             learning_rate=0.1, loss='ls', max_depth=3, max_features=None,\n",
       "             max_leaf_nodes=None, min_impurity_decrease=0.0,\n",
       "             min_impurity_split=None, min_samples_leaf=1,\n",
       "             min_samples_split=2, min_weight_fraction_leaf=0.0,\n",
       "             n_estimators=100, presort='auto', random_state=None,\n",
       "             subsample=1.0, verbose=0, warm_start=False),\n",
       "       fit_params={}, iid=True, n_jobs=-1,\n",
       "       param_grid={'n_estimators': [10, 100, 150, 200], 'max_depth': [2, 5, 10], 'min_samples_split': [10, 100, 200], 'min_samples_leaf': [10, 50]},\n",
       "       pre_dispatch='2*n_jobs', refit=True, scoring=None, verbose=0)"
      ]
     },
     "execution_count": 83,
     "metadata": {},
     "output_type": "execute_result"
    }
   ],
   "source": [
    "grid_search_GBM.fit(X_train,y_train)"
   ]
  },
  {
   "cell_type": "code",
   "execution_count": 84,
   "metadata": {},
   "outputs": [
    {
     "data": {
      "text/plain": [
       "0.8671154188456444"
      ]
     },
     "execution_count": 84,
     "metadata": {},
     "output_type": "execute_result"
    }
   ],
   "source": [
    "grid_search_GBM.best_score_"
   ]
  },
  {
   "cell_type": "code",
   "execution_count": 85,
   "metadata": {},
   "outputs": [
    {
     "data": {
      "text/plain": [
       "{'max_depth': 10,\n",
       " 'min_samples_leaf': 50,\n",
       " 'min_samples_split': 10,\n",
       " 'n_estimators': 100}"
      ]
     },
     "execution_count": 85,
     "metadata": {},
     "output_type": "execute_result"
    }
   ],
   "source": [
    "grid_search_GBM.best_params_"
   ]
  },
  {
   "cell_type": "code",
   "execution_count": 86,
   "metadata": {},
   "outputs": [
    {
     "data": {
      "text/plain": [
       "GradientBoostingRegressor(alpha=0.9, criterion='friedman_mse', init=None,\n",
       "             learning_rate=0.1, loss='ls', max_depth=10, max_features=None,\n",
       "             max_leaf_nodes=None, min_impurity_decrease=0.0,\n",
       "             min_impurity_split=None, min_samples_leaf=50,\n",
       "             min_samples_split=10, min_weight_fraction_leaf=0.0,\n",
       "             n_estimators=100, presort='auto', random_state=None,\n",
       "             subsample=1.0, verbose=0, warm_start=False)"
      ]
     },
     "execution_count": 86,
     "metadata": {},
     "output_type": "execute_result"
    }
   ],
   "source": [
    "grid_search_GBM.best_estimator_"
   ]
  },
  {
   "cell_type": "markdown",
   "metadata": {},
   "source": [
    "### Final GBM"
   ]
  },
  {
   "cell_type": "markdown",
   "metadata": {},
   "source": [
    "### GBM Model Parameters: Max Depth: 10,Min Sample Leaf: 50, Min Samples Split : 10, N Estimators: 100"
   ]
  },
  {
   "cell_type": "code",
   "execution_count": 87,
   "metadata": {},
   "outputs": [],
   "source": [
    "model_GBM=GradientBoostingRegressor(alpha=0.9, criterion='friedman_mse', init=None,\n",
    "             learning_rate=0.1, loss='ls', max_depth=10, max_features=None,\n",
    "             max_leaf_nodes=None, min_impurity_decrease=0.0,\n",
    "             min_impurity_split=None, min_samples_leaf=50,\n",
    "             min_samples_split=10, min_weight_fraction_leaf=0.0,\n",
    "             n_estimators=100, presort='auto', random_state=None,\n",
    "             subsample=1.0, verbose=0, warm_start=False)"
   ]
  },
  {
   "cell_type": "code",
   "execution_count": 88,
   "metadata": {},
   "outputs": [
    {
     "data": {
      "text/plain": [
       "GradientBoostingRegressor(alpha=0.9, criterion='friedman_mse', init=None,\n",
       "             learning_rate=0.1, loss='ls', max_depth=10, max_features=None,\n",
       "             max_leaf_nodes=None, min_impurity_decrease=0.0,\n",
       "             min_impurity_split=None, min_samples_leaf=50,\n",
       "             min_samples_split=10, min_weight_fraction_leaf=0.0,\n",
       "             n_estimators=100, presort='auto', random_state=None,\n",
       "             subsample=1.0, verbose=0, warm_start=False)"
      ]
     },
     "execution_count": 88,
     "metadata": {},
     "output_type": "execute_result"
    }
   ],
   "source": [
    "model_GBM.fit(sc.transform(X),y)"
   ]
  },
  {
   "cell_type": "code",
   "execution_count": 89,
   "metadata": {},
   "outputs": [
    {
     "name": "stdout",
     "output_type": "stream",
     "text": [
      "Training Result \n",
      "\n",
      "R Squared Value:  0.8296 \n",
      "\n",
      "Cross-Validation Score: \n",
      " 0.888563858595\n",
      "Standard Deviation: \n",
      " 0.192520727302\n"
     ]
    }
   ],
   "source": [
    "Score(model_GBM,X_train,y_train,X_test,y_test,train=True)"
   ]
  },
  {
   "cell_type": "code",
   "execution_count": 90,
   "metadata": {},
   "outputs": [
    {
     "name": "stdout",
     "output_type": "stream",
     "text": [
      "TestResult \n",
      "\n",
      "R Squared Value:  0.9777 \n",
      "\n"
     ]
    }
   ],
   "source": [
    "Score(model_GBM,X_train,y_train,X_test,y_test,train=False)"
   ]
  },
  {
   "cell_type": "code",
   "execution_count": 91,
   "metadata": {},
   "outputs": [],
   "source": [
    "pred_GBM=model_GBM.predict(sc.transform(test))"
   ]
  },
  {
   "cell_type": "code",
   "execution_count": 92,
   "metadata": {},
   "outputs": [
    {
     "data": {
      "text/plain": [
       "<matplotlib.text.Text at 0x7fc1d0b3a7f0>"
      ]
     },
     "execution_count": 92,
     "metadata": {},
     "output_type": "execute_result"
    },
    {
     "data": {
      "image/png": "[encoded data removed]",
      "text/plain": [
       "<matplotlib.figure.Figure at 0x7fc1c9280f98>"
      ]
     },
     "metadata": {},
     "output_type": "display_data"
    }
   ],
   "source": [
    "plt.figure(figsize=(10,10))\n",
    "features =X.columns\n",
    "importances = model_GBM.feature_importances_\n",
    "indices = np.argsort(importances)\n",
    "plt.title('Feature Importances')\n",
    "plt.barh(range(len(indices)), importances[indices], color='b')\n",
    "plt.yticks(range(len(indices)), features[indices])\n",
    "plt.xlabel('Relative Importance')\n"
   ]
  },
  {
   "cell_type": "markdown",
   "metadata": {},
   "source": [
    "## XGBoost"
   ]
  },
  {
   "cell_type": "markdown",
   "metadata": {},
   "source": [
    "### Final XGBoost Parameters : Max Depth:10 , N Estimators : 100"
   ]
  },
  {
   "cell_type": "code",
   "execution_count": 93,
   "metadata": {},
   "outputs": [],
   "source": [
    "model_XGB=XGBRegressor(max_depth=10,n_estimators=100)"
   ]
  },
  {
   "cell_type": "code",
   "execution_count": 94,
   "metadata": {},
   "outputs": [
    {
     "data": {
      "text/plain": [
       "XGBRegressor(base_score=0.5, colsample_bylevel=1, colsample_bytree=1, gamma=0,\n",
       "       learning_rate=0.1, max_delta_step=0, max_depth=10,\n",
       "       min_child_weight=1, missing=None, n_estimators=100, nthread=-1,\n",
       "       objective='reg:linear', reg_alpha=0, reg_lambda=1,\n",
       "       scale_pos_weight=1, seed=0, silent=True, subsample=1)"
      ]
     },
     "execution_count": 94,
     "metadata": {},
     "output_type": "execute_result"
    }
   ],
   "source": [
    "model_XGB.fit(X_train,y_train)"
   ]
  },
  {
   "cell_type": "code",
   "execution_count": 97,
   "metadata": {},
   "outputs": [
    {
     "name": "stdout",
     "output_type": "stream",
     "text": [
      "TestResult \n",
      "\n",
      "R Squared Value:  0.9972 \n",
      "\n"
     ]
    }
   ],
   "source": [
    "Score(model_XGB,X_train,y_train,X_test,y_test,train=False)"
   ]
  },
  {
   "cell_type": "code",
   "execution_count": 96,
   "metadata": {},
   "outputs": [
    {
     "data": {
      "text/plain": [
       "XGBRegressor(base_score=0.5, colsample_bylevel=1, colsample_bytree=1, gamma=0,\n",
       "       learning_rate=0.1, max_delta_step=0, max_depth=10,\n",
       "       min_child_weight=1, missing=None, n_estimators=100, nthread=-1,\n",
       "       objective='reg:linear', reg_alpha=0, reg_lambda=1,\n",
       "       scale_pos_weight=1, seed=0, silent=True, subsample=1)"
      ]
     },
     "execution_count": 96,
     "metadata": {},
     "output_type": "execute_result"
    }
   ],
   "source": [
    "model_XGB.fit(sc.transform(X),y)"
   ]
  },
  {
   "cell_type": "code",
   "execution_count": 98,
   "metadata": {},
   "outputs": [],
   "source": [
    "pred_XGB=model_XGB.predict(sc.transform(test))"
   ]
  },
  {
   "cell_type": "markdown",
   "metadata": {},
   "source": [
    "### So, 60% weightage of XGBoost Model and 40% Weightage of GBM Model is ensembled for Final Submission. It gave accuracy near 0.97106(R Squared) on testdata. "
   ]
  },
  {
   "cell_type": "code",
   "execution_count": 99,
   "metadata": {},
   "outputs": [],
   "source": [
    "final_pred=(0.6*pred_XGB+0.4*pred_GBM)"
   ]
  },
  {
   "cell_type": "markdown",
   "metadata": {},
   "source": [
    "## Submission"
   ]
  },
  {
   "cell_type": "code",
   "execution_count": 100,
   "metadata": {},
   "outputs": [],
   "source": [
    "sub=pd.read_csv(\"sample_submission.csv\")"
   ]
  },
  {
   "cell_type": "code",
   "execution_count": 187,
   "metadata": {},
   "outputs": [
    {
     "data": {
      "text/html": [
       "<div>\n",
       "<style>\n",
       "    .dataframe thead tr:only-child th {\n",
       "        text-align: right;\n",
       "    }\n",
       "\n",
       "    .dataframe thead th {\n",
       "        text-align: left;\n",
       "    }\n",
       "\n",
       "    .dataframe tbody tr th {\n",
       "        vertical-align: top;\n",
       "    }\n",
       "</style>\n",
       "<table border=\"1\" class=\"dataframe\">\n",
       "  <thead>\n",
       "    <tr style=\"text-align: right;\">\n",
       "      <th></th>\n",
       "      <th>portfolio_id</th>\n",
       "      <th>return</th>\n",
       "    </tr>\n",
       "  </thead>\n",
       "  <tbody>\n",
       "    <tr>\n",
       "      <th>0</th>\n",
       "      <td>PF00001001</td>\n",
       "      <td>0.079456</td>\n",
       "    </tr>\n",
       "    <tr>\n",
       "      <th>1</th>\n",
       "      <td>PF00001004</td>\n",
       "      <td>0.076026</td>\n",
       "    </tr>\n",
       "    <tr>\n",
       "      <th>2</th>\n",
       "      <td>PF00001009</td>\n",
       "      <td>0.058746</td>\n",
       "    </tr>\n",
       "    <tr>\n",
       "      <th>3</th>\n",
       "      <td>PF00001013</td>\n",
       "      <td>0.022700</td>\n",
       "    </tr>\n",
       "    <tr>\n",
       "      <th>4</th>\n",
       "      <td>PF00001014</td>\n",
       "      <td>0.036714</td>\n",
       "    </tr>\n",
       "  </tbody>\n",
       "</table>\n",
       "</div>"
      ],
      "text/plain": [
       "  portfolio_id    return\n",
       "0   PF00001001  0.079456\n",
       "1   PF00001004  0.076026\n",
       "2   PF00001009  0.058746\n",
       "3   PF00001013  0.022700\n",
       "4   PF00001014  0.036714"
      ]
     },
     "execution_count": 187,
     "metadata": {},
     "output_type": "execute_result"
    }
   ],
   "source": [
    "sub.head()"
   ]
  },
  {
   "cell_type": "code",
   "execution_count": 101,
   "metadata": {},
   "outputs": [],
   "source": [
    "sub['return']=final_pred"
   ]
  },
  {
   "cell_type": "code",
   "execution_count": 105,
   "metadata": {},
   "outputs": [],
   "source": [
    "sub.to_csv(\"Submission_XGB_GBM.csv\",index=False)"
   ]
  },
  {
   "cell_type": "code",
   "execution_count": null,
   "metadata": {},
   "outputs": [],
   "source": []
  }
 ],
 "metadata": {
  "kernelspec": {
   "display_name": "Python 3",
   "language": "python",
   "name": "python3"
  },
  "language_info": {
   "codemirror_mode": {
    "name": "ipython",
    "version": 3
   },
   "file_extension": ".py",
   "mimetype": "text/x-python",
   "name": "python",
   "nbconvert_exporter": "python",
   "pygments_lexer": "ipython3",
   "version": "3.6.2"
  }
 },
 "nbformat": 4,
 "nbformat_minor": 2
}
